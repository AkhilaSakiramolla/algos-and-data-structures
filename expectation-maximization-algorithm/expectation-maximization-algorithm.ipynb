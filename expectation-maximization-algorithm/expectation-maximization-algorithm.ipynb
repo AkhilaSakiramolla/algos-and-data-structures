{
 "cells": [
  {
   "cell_type": "markdown",
   "metadata": {
    "id": "GVCcv36vemuO"
   },
   "source": [
    "# CSCI-B 505 Applied Algorithms - Assignment 6"
   ]
  },
  {
   "cell_type": "markdown",
   "metadata": {
    "id": "_6zWglW6eoSo"
   },
   "source": [
    "### Name : Akhila Sakiramolla (asakiram@iu.edu)\n",
    "### UID : 2000886005\n",
    "### Assignment partner : Keshav Likhar (klikhar)"
   ]
  },
  {
   "cell_type": "markdown",
   "metadata": {
    "id": "1YjKxeOierju"
   },
   "source": [
    "## Importing required libraries"
   ]
  },
  {
   "cell_type": "code",
   "execution_count": 1,
   "metadata": {
    "id": "t80W8Z28TRXA"
   },
   "outputs": [],
   "source": [
    "import numpy as np\n",
    "import pandas as pd\n",
    "from scipy.stats import multivariate_normal\n",
    "from collections import defaultdict\n",
    "\n",
    "# To execute a cell line by line\n",
    "from IPython.core.interactiveshell import InteractiveShell\n",
    "InteractiveShell.ast_node_interactivity = \"all\""
   ]
  },
  {
   "cell_type": "markdown",
   "metadata": {
    "id": "-B9vjOwXezio"
   },
   "source": [
    "## Problem 1: Expectation-Maximization Algorithm for Clustering"
   ]
  },
  {
   "cell_type": "markdown",
   "metadata": {
    "id": "90MmHulCqOOJ"
   },
   "source": [
    "Implement expectation-maximization algorithm for Gaussian mixture models (see the EM algo\u0002rithm below) in Python and call this program Gk. As you present your code explain your protocol\n",
    "for\n",
    "1. initializing each Gaussian\n",
    "2. deciding ties\n",
    "3. stopping criteria"
   ]
  },
  {
   "cell_type": "markdown",
   "metadata": {
    "id": "4U3gjmw_nsPt"
   },
   "source": [
    "Expectation maximization is an unsupervised algorithm that can be used to calculate the hidden/latent model parameters. In this algorithm we use the existing data to determine the optimal values for these latent variables and then we update these variables iteratively.\n",
    "\n",
    "The EM algorithm has 2 steps:\n",
    "\n",
    "\n",
    "1.   Expectation step\n",
    "2.   Maximization step\n"
   ]
  },
  {
   "cell_type": "markdown",
   "metadata": {
    "id": "yQ6MDiUOig9q"
   },
   "source": [
    "### 1. Initializing each Gaussian\n",
    "\n",
    "\n"
   ]
  },
  {
   "cell_type": "markdown",
   "metadata": {
    "id": "w5Iz8Rxh33c6"
   },
   "source": [
    "In the expecation step, we use the existing data to initilize the mean, covariance and prior probabilities."
   ]
  },
  {
   "cell_type": "code",
   "execution_count": 2,
   "metadata": {
    "id": "WPRjM5nafDT6"
   },
   "outputs": [],
   "source": [
    "# Function to Initiliaze the mean, covariance and prior \n",
    "\n",
    "def initializeData(df,k):\n",
    "  d = df.shape[1]\n",
    "  mean_mat = df.sample(n = k).to_numpy()\n",
    "  prior_prob = 1/k\n",
    "  prior_prob_mat = [prior_prob]*k\n",
    "  cov_mat = []\n",
    "  for i in range(k):\n",
    "    cov_mat.append(np.identity(d))\n",
    "    \n",
    "  return mean_mat, cov_mat, prior_prob_mat"
   ]
  },
  {
   "cell_type": "markdown",
   "metadata": {
    "id": "xl8-3cgAikTh"
   },
   "source": [
    "### 2. Deciding ties"
   ]
  },
  {
   "cell_type": "markdown",
   "metadata": {
    "id": "9mBTyRJj4yp1"
   },
   "source": [
    "The deciding ties will happen when we try to the assign the data point to the original clusters but the euclidean distance between the two clusters is the same. In this case, we assign the clusters based on the data points that have high higher probability for those clusters"
   ]
  },
  {
   "cell_type": "code",
   "execution_count": 3,
   "metadata": {
    "id": "Xl_E_j-pfDP4"
   },
   "outputs": [],
   "source": [
    "# Function to calculate posterior probability\n",
    "\n",
    "def expectation(df_ion,k,mean,cov,prior_prob):\n",
    "  n = df_ion.shape[0]\n",
    "  pdf = [0]*k\n",
    "  wts = [0]*k\n",
    "  total_wts = [0]*n\n",
    "  for i in range(k):\n",
    "    pdf[i] = multivariate_normal.pdf(df_ion, mean=mean[i], cov=cov[i],allow_singular=True)\n",
    "    wts[i] = pdf[i]*prior_prob[i]\n",
    "    total_wts += wts[i]\n",
    "\n",
    "  post_prob = [0]*k\n",
    "  total_post_prob = [0]*n\n",
    "  for i in range(k):\n",
    "    post_prob[i] = wts[i]/total_wts\n",
    "    total_post_prob += post_prob[i]\n",
    "\n",
    "  return post_prob"
   ]
  },
  {
   "cell_type": "code",
   "execution_count": 4,
   "metadata": {
    "id": "NOp8DI2YfDMC"
   },
   "outputs": [],
   "source": [
    "# Function to re-estimate the mean, covariance and prior\n",
    "\n",
    "def maximization(k, post_prob, df_ion):\n",
    "  d = df_ion.shape[1]\n",
    "  mean_updated = np.ones((k,d))\n",
    "  cov_updated = []\n",
    "  cov_num = []\n",
    "  prior_updated = []\n",
    "  for i in range(k):\n",
    "    mean_updated[i] = (np.divide(np.dot(post_prob[i], df_ion), sum(post_prob[i])))\n",
    "    cov_num.append(post_prob[i]*np.dot((df_ion.to_numpy() - mean_updated[i]), np.transpose(df_ion.to_numpy() - mean_updated[i])))\n",
    "    cov_updated.append(cov_num[i]/sum(post_prob[i]))\n",
    "    prior_updated.append(sum(post_prob[i])/df_ion.shape[0])\n",
    "\n",
    "  return mean_updated"
   ]
  },
  {
   "cell_type": "markdown",
   "metadata": {
    "id": "nQdYi-guisDL"
   },
   "source": [
    "### 3. Stopping criteria"
   ]
  },
  {
   "cell_type": "markdown",
   "metadata": {
    "id": "SXgPn3Un3-Wo"
   },
   "source": [
    "In maximization step, we use these initial values to calculate posterior probabilities for the clusters and update the variable values. Here we check the sum of squared errors for every iteration and return when the value converges. "
   ]
  },
  {
   "cell_type": "code",
   "execution_count": 19,
   "metadata": {
    "id": "8DlS-vLAfDGp"
   },
   "outputs": [],
   "source": [
    "# Expectation maximization algorithm\n",
    "\n",
    "def expectationMaximization(X,k):\n",
    "  eps = 0.0001\n",
    "  e = 1000\n",
    "  error_list = []\n",
    "  i = 0\n",
    "  mean,cov,prior_prob = initializeData(X,k)\n",
    "  while e > eps:\n",
    "    post_prob = expectation(X,k,mean,cov,prior_prob)\n",
    "    mean_updated = maximization(k,post_prob, X)\n",
    "        \n",
    "    e = np.linalg.norm(mean_updated-mean)**2\n",
    "\n",
    "    if e <= eps:\n",
    "      error_list.append(e)\n",
    "      break\n",
    "    mean = mean_updated\n",
    "    i += 1\n",
    "\n",
    "  return post_prob,mean_updated,error_list,i"
   ]
  },
  {
   "cell_type": "markdown",
   "metadata": {
    "id": "DzI1Hv3yfwWh"
   },
   "source": [
    "## Problem 2: Analysis of the EM over Real-world Data Sets"
   ]
  },
  {
   "cell_type": "markdown",
   "metadata": {
    "id": "TxvyMJtBqFqA"
   },
   "source": [
    "Run your EM program, Gk, against the Ringnorm and Ionosphere data sets. Discuss your\n",
    "results.\n",
    "• Ringnorm Data Set\n",
    "• Ionosphere Data Set"
   ]
  },
  {
   "cell_type": "markdown",
   "metadata": {
    "id": "nqM7LTQtf56H"
   },
   "source": [
    "### Ringnorm dataset"
   ]
  },
  {
   "cell_type": "code",
   "execution_count": 53,
   "metadata": {
    "colab": {
     "base_uri": "https://localhost:8080/",
     "height": 243
    },
    "id": "bKtpz5CNg84g",
    "outputId": "16f7d979-c792-4eca-d599-c8f14ddc83e2"
   },
   "outputs": [
    {
     "data": {
      "text/plain": [
       "(7400, 21)"
      ]
     },
     "execution_count": 53,
     "metadata": {},
     "output_type": "execute_result"
    },
    {
     "data": {
      "text/html": [
       "<div>\n",
       "<style scoped>\n",
       "    .dataframe tbody tr th:only-of-type {\n",
       "        vertical-align: middle;\n",
       "    }\n",
       "\n",
       "    .dataframe tbody tr th {\n",
       "        vertical-align: top;\n",
       "    }\n",
       "\n",
       "    .dataframe thead th {\n",
       "        text-align: right;\n",
       "    }\n",
       "</style>\n",
       "<table border=\"1\" class=\"dataframe\">\n",
       "  <thead>\n",
       "    <tr style=\"text-align: right;\">\n",
       "      <th></th>\n",
       "      <th>0</th>\n",
       "      <th>1</th>\n",
       "      <th>2</th>\n",
       "      <th>3</th>\n",
       "      <th>4</th>\n",
       "      <th>5</th>\n",
       "      <th>6</th>\n",
       "      <th>7</th>\n",
       "      <th>8</th>\n",
       "      <th>9</th>\n",
       "      <th>10</th>\n",
       "      <th>11</th>\n",
       "      <th>12</th>\n",
       "      <th>13</th>\n",
       "      <th>14</th>\n",
       "      <th>15</th>\n",
       "      <th>16</th>\n",
       "      <th>17</th>\n",
       "      <th>18</th>\n",
       "      <th>19</th>\n",
       "      <th>20</th>\n",
       "    </tr>\n",
       "  </thead>\n",
       "  <tbody>\n",
       "    <tr>\n",
       "      <th>0</th>\n",
       "      <td>0.8494</td>\n",
       "      <td>2.1770</td>\n",
       "      <td>0.5982</td>\n",
       "      <td>1.6894</td>\n",
       "      <td>3.1137</td>\n",
       "      <td>-3.4060</td>\n",
       "      <td>3.7986</td>\n",
       "      <td>-2.6421</td>\n",
       "      <td>1.5779</td>\n",
       "      <td>-0.1808</td>\n",
       "      <td>-0.2118</td>\n",
       "      <td>1.6327</td>\n",
       "      <td>4.6640</td>\n",
       "      <td>1.0808</td>\n",
       "      <td>-1.1717</td>\n",
       "      <td>-1.6605</td>\n",
       "      <td>0.5775</td>\n",
       "      <td>1.6638</td>\n",
       "      <td>3.0895</td>\n",
       "      <td>-3.0276</td>\n",
       "      <td>0</td>\n",
       "    </tr>\n",
       "    <tr>\n",
       "      <th>1</th>\n",
       "      <td>0.9471</td>\n",
       "      <td>0.5431</td>\n",
       "      <td>0.7821</td>\n",
       "      <td>-0.4493</td>\n",
       "      <td>-0.0078</td>\n",
       "      <td>1.3164</td>\n",
       "      <td>0.7556</td>\n",
       "      <td>-0.0614</td>\n",
       "      <td>1.6040</td>\n",
       "      <td>1.6859</td>\n",
       "      <td>0.2645</td>\n",
       "      <td>-0.3816</td>\n",
       "      <td>1.2591</td>\n",
       "      <td>0.6079</td>\n",
       "      <td>-2.2921</td>\n",
       "      <td>1.0078</td>\n",
       "      <td>2.6866</td>\n",
       "      <td>-1.4216</td>\n",
       "      <td>-0.6064</td>\n",
       "      <td>2.3738</td>\n",
       "      <td>1</td>\n",
       "    </tr>\n",
       "    <tr>\n",
       "      <th>2</th>\n",
       "      <td>0.7590</td>\n",
       "      <td>-0.3142</td>\n",
       "      <td>0.8975</td>\n",
       "      <td>-1.7429</td>\n",
       "      <td>2.0028</td>\n",
       "      <td>1.1171</td>\n",
       "      <td>0.9107</td>\n",
       "      <td>1.3603</td>\n",
       "      <td>-0.4886</td>\n",
       "      <td>-0.1444</td>\n",
       "      <td>0.9819</td>\n",
       "      <td>1.1203</td>\n",
       "      <td>0.5985</td>\n",
       "      <td>0.4741</td>\n",
       "      <td>2.0260</td>\n",
       "      <td>1.4306</td>\n",
       "      <td>-0.3357</td>\n",
       "      <td>0.7900</td>\n",
       "      <td>1.1226</td>\n",
       "      <td>0.3024</td>\n",
       "      <td>1</td>\n",
       "    </tr>\n",
       "    <tr>\n",
       "      <th>3</th>\n",
       "      <td>0.5306</td>\n",
       "      <td>1.3742</td>\n",
       "      <td>0.5170</td>\n",
       "      <td>1.2261</td>\n",
       "      <td>1.1218</td>\n",
       "      <td>-0.0043</td>\n",
       "      <td>-1.2268</td>\n",
       "      <td>2.2773</td>\n",
       "      <td>1.0832</td>\n",
       "      <td>0.8879</td>\n",
       "      <td>-1.1103</td>\n",
       "      <td>1.0626</td>\n",
       "      <td>2.4544</td>\n",
       "      <td>0.5873</td>\n",
       "      <td>-0.7442</td>\n",
       "      <td>1.2155</td>\n",
       "      <td>0.9163</td>\n",
       "      <td>-0.4759</td>\n",
       "      <td>0.6004</td>\n",
       "      <td>-0.4768</td>\n",
       "      <td>1</td>\n",
       "    </tr>\n",
       "    <tr>\n",
       "      <th>4</th>\n",
       "      <td>-1.4430</td>\n",
       "      <td>1.0651</td>\n",
       "      <td>2.0710</td>\n",
       "      <td>2.0698</td>\n",
       "      <td>-0.8647</td>\n",
       "      <td>-0.7861</td>\n",
       "      <td>2.6554</td>\n",
       "      <td>-0.3656</td>\n",
       "      <td>0.9714</td>\n",
       "      <td>-0.3410</td>\n",
       "      <td>0.2210</td>\n",
       "      <td>4.1953</td>\n",
       "      <td>-0.1172</td>\n",
       "      <td>-2.6937</td>\n",
       "      <td>0.0138</td>\n",
       "      <td>4.0970</td>\n",
       "      <td>1.3557</td>\n",
       "      <td>-0.9436</td>\n",
       "      <td>-0.6021</td>\n",
       "      <td>2.3482</td>\n",
       "      <td>0</td>\n",
       "    </tr>\n",
       "  </tbody>\n",
       "</table>\n",
       "</div>"
      ],
      "text/plain": [
       "       0       1       2       3       4   ...      16      17      18      19  20\n",
       "0  0.8494  2.1770  0.5982  1.6894  3.1137  ...  0.5775  1.6638  3.0895 -3.0276   0\n",
       "1  0.9471  0.5431  0.7821 -0.4493 -0.0078  ...  2.6866 -1.4216 -0.6064  2.3738   1\n",
       "2  0.7590 -0.3142  0.8975 -1.7429  2.0028  ... -0.3357  0.7900  1.1226  0.3024   1\n",
       "3  0.5306  1.3742  0.5170  1.2261  1.1218  ...  0.9163 -0.4759  0.6004 -0.4768   1\n",
       "4 -1.4430  1.0651  2.0710  2.0698 -0.8647  ...  1.3557 -0.9436 -0.6021  2.3482   0\n",
       "\n",
       "[5 rows x 21 columns]"
      ]
     },
     "execution_count": 53,
     "metadata": {},
     "output_type": "execute_result"
    }
   ],
   "source": [
    "# Loading data\n",
    "\n",
    "df_ring = pd.read_csv('Dataset.data',sep = \"\\s+\",header=None)\n",
    "df_ring.shape\n",
    "df_ring.head()"
   ]
  },
  {
   "cell_type": "code",
   "execution_count": 54,
   "metadata": {
    "colab": {
     "base_uri": "https://localhost:8080/",
     "height": 227
    },
    "id": "eSkFowkuhEX1",
    "outputId": "442207fc-e882-4431-8fbe-4a0d1a551fb2"
   },
   "outputs": [
    {
     "data": {
      "text/html": [
       "<div>\n",
       "<style scoped>\n",
       "    .dataframe tbody tr th:only-of-type {\n",
       "        vertical-align: middle;\n",
       "    }\n",
       "\n",
       "    .dataframe tbody tr th {\n",
       "        vertical-align: top;\n",
       "    }\n",
       "\n",
       "    .dataframe thead th {\n",
       "        text-align: right;\n",
       "    }\n",
       "</style>\n",
       "<table border=\"1\" class=\"dataframe\">\n",
       "  <thead>\n",
       "    <tr style=\"text-align: right;\">\n",
       "      <th></th>\n",
       "      <th>0</th>\n",
       "      <th>1</th>\n",
       "      <th>2</th>\n",
       "      <th>3</th>\n",
       "      <th>4</th>\n",
       "      <th>5</th>\n",
       "      <th>6</th>\n",
       "      <th>7</th>\n",
       "      <th>8</th>\n",
       "      <th>9</th>\n",
       "      <th>10</th>\n",
       "      <th>11</th>\n",
       "      <th>12</th>\n",
       "      <th>13</th>\n",
       "      <th>14</th>\n",
       "      <th>15</th>\n",
       "      <th>16</th>\n",
       "      <th>17</th>\n",
       "      <th>18</th>\n",
       "      <th>19</th>\n",
       "    </tr>\n",
       "  </thead>\n",
       "  <tbody>\n",
       "    <tr>\n",
       "      <th>0</th>\n",
       "      <td>0.8494</td>\n",
       "      <td>2.1770</td>\n",
       "      <td>0.5982</td>\n",
       "      <td>1.6894</td>\n",
       "      <td>3.1137</td>\n",
       "      <td>-3.4060</td>\n",
       "      <td>3.7986</td>\n",
       "      <td>-2.6421</td>\n",
       "      <td>1.5779</td>\n",
       "      <td>-0.1808</td>\n",
       "      <td>-0.2118</td>\n",
       "      <td>1.6327</td>\n",
       "      <td>4.6640</td>\n",
       "      <td>1.0808</td>\n",
       "      <td>-1.1717</td>\n",
       "      <td>-1.6605</td>\n",
       "      <td>0.5775</td>\n",
       "      <td>1.6638</td>\n",
       "      <td>3.0895</td>\n",
       "      <td>-3.0276</td>\n",
       "    </tr>\n",
       "    <tr>\n",
       "      <th>1</th>\n",
       "      <td>0.9471</td>\n",
       "      <td>0.5431</td>\n",
       "      <td>0.7821</td>\n",
       "      <td>-0.4493</td>\n",
       "      <td>-0.0078</td>\n",
       "      <td>1.3164</td>\n",
       "      <td>0.7556</td>\n",
       "      <td>-0.0614</td>\n",
       "      <td>1.6040</td>\n",
       "      <td>1.6859</td>\n",
       "      <td>0.2645</td>\n",
       "      <td>-0.3816</td>\n",
       "      <td>1.2591</td>\n",
       "      <td>0.6079</td>\n",
       "      <td>-2.2921</td>\n",
       "      <td>1.0078</td>\n",
       "      <td>2.6866</td>\n",
       "      <td>-1.4216</td>\n",
       "      <td>-0.6064</td>\n",
       "      <td>2.3738</td>\n",
       "    </tr>\n",
       "  </tbody>\n",
       "</table>\n",
       "</div>"
      ],
      "text/plain": [
       "       0       1       2       3   ...      16      17      18      19\n",
       "0  0.8494  2.1770  0.5982  1.6894  ...  0.5775  1.6638  3.0895 -3.0276\n",
       "1  0.9471  0.5431  0.7821 -0.4493  ...  2.6866 -1.4216 -0.6064  2.3738\n",
       "\n",
       "[2 rows x 20 columns]"
      ]
     },
     "execution_count": 54,
     "metadata": {},
     "output_type": "execute_result"
    },
    {
     "data": {
      "text/html": [
       "<div>\n",
       "<style scoped>\n",
       "    .dataframe tbody tr th:only-of-type {\n",
       "        vertical-align: middle;\n",
       "    }\n",
       "\n",
       "    .dataframe tbody tr th {\n",
       "        vertical-align: top;\n",
       "    }\n",
       "\n",
       "    .dataframe thead th {\n",
       "        text-align: right;\n",
       "    }\n",
       "</style>\n",
       "<table border=\"1\" class=\"dataframe\">\n",
       "  <thead>\n",
       "    <tr style=\"text-align: right;\">\n",
       "      <th></th>\n",
       "      <th>0</th>\n",
       "      <th>1</th>\n",
       "      <th>2</th>\n",
       "      <th>3</th>\n",
       "      <th>4</th>\n",
       "      <th>5</th>\n",
       "      <th>6</th>\n",
       "      <th>7</th>\n",
       "      <th>8</th>\n",
       "      <th>9</th>\n",
       "      <th>10</th>\n",
       "      <th>11</th>\n",
       "      <th>12</th>\n",
       "      <th>13</th>\n",
       "      <th>14</th>\n",
       "      <th>15</th>\n",
       "      <th>16</th>\n",
       "      <th>17</th>\n",
       "      <th>18</th>\n",
       "      <th>19</th>\n",
       "      <th>20</th>\n",
       "    </tr>\n",
       "  </thead>\n",
       "  <tbody>\n",
       "    <tr>\n",
       "      <th>0</th>\n",
       "      <td>0.8494</td>\n",
       "      <td>2.1770</td>\n",
       "      <td>0.5982</td>\n",
       "      <td>1.6894</td>\n",
       "      <td>3.1137</td>\n",
       "      <td>-3.4060</td>\n",
       "      <td>3.7986</td>\n",
       "      <td>-2.6421</td>\n",
       "      <td>1.5779</td>\n",
       "      <td>-0.1808</td>\n",
       "      <td>-0.2118</td>\n",
       "      <td>1.6327</td>\n",
       "      <td>4.6640</td>\n",
       "      <td>1.0808</td>\n",
       "      <td>-1.1717</td>\n",
       "      <td>-1.6605</td>\n",
       "      <td>0.5775</td>\n",
       "      <td>1.6638</td>\n",
       "      <td>3.0895</td>\n",
       "      <td>-3.0276</td>\n",
       "      <td>b</td>\n",
       "    </tr>\n",
       "    <tr>\n",
       "      <th>1</th>\n",
       "      <td>0.9471</td>\n",
       "      <td>0.5431</td>\n",
       "      <td>0.7821</td>\n",
       "      <td>-0.4493</td>\n",
       "      <td>-0.0078</td>\n",
       "      <td>1.3164</td>\n",
       "      <td>0.7556</td>\n",
       "      <td>-0.0614</td>\n",
       "      <td>1.6040</td>\n",
       "      <td>1.6859</td>\n",
       "      <td>0.2645</td>\n",
       "      <td>-0.3816</td>\n",
       "      <td>1.2591</td>\n",
       "      <td>0.6079</td>\n",
       "      <td>-2.2921</td>\n",
       "      <td>1.0078</td>\n",
       "      <td>2.6866</td>\n",
       "      <td>-1.4216</td>\n",
       "      <td>-0.6064</td>\n",
       "      <td>2.3738</td>\n",
       "      <td>g</td>\n",
       "    </tr>\n",
       "  </tbody>\n",
       "</table>\n",
       "</div>"
      ],
      "text/plain": [
       "       0       1       2       3       4   ...      16      17      18      19  20\n",
       "0  0.8494  2.1770  0.5982  1.6894  3.1137  ...  0.5775  1.6638  3.0895 -3.0276   b\n",
       "1  0.9471  0.5431  0.7821 -0.4493 -0.0078  ...  2.6866 -1.4216 -0.6064  2.3738   g\n",
       "\n",
       "[2 rows x 21 columns]"
      ]
     },
     "execution_count": 54,
     "metadata": {},
     "output_type": "execute_result"
    }
   ],
   "source": [
    "X = df_ring.loc[:, df_ring.columns != 20]\n",
    "X.head(2)\n",
    "\n",
    "Y = df_ring[[20]]\n",
    "Y = Y.to_numpy()\n",
    "\n",
    "df_ring[20] = np.where(df_ring[20] == 1,'g','b')\n",
    "df_ring.head(2)"
   ]
  },
  {
   "cell_type": "code",
   "execution_count": 55,
   "metadata": {
    "colab": {
     "base_uri": "https://localhost:8080/"
    },
    "id": "DSWis6fdhFk7",
    "outputId": "6a5d68c6-c9ee-4bdd-d0fe-f2ca663f4871"
   },
   "outputs": [
    {
     "name": "stderr",
     "output_type": "stream",
     "text": [
      "/usr/local/lib/python3.7/dist-packages/pandas/core/frame.py:4174: SettingWithCopyWarning: \n",
      "A value is trying to be set on a copy of a slice from a DataFrame\n",
      "\n",
      "See the caveats in the documentation: https://pandas.pydata.org/pandas-docs/stable/user_guide/indexing.html#returning-a-view-versus-a-copy\n",
      "  errors=errors,\n"
     ]
    }
   ],
   "source": [
    "# Calculating the mean of datapoints for different classes\n",
    "\n",
    "Y_true = df_ring[df_ring[20] == 'g']\n",
    "Y_true.drop(columns = [20], inplace = True)\n",
    "Y_true_mean = np.mean(Y_true).to_numpy()\n",
    "\n",
    "Y_false = df_ring[df_ring[20] == 'b']\n",
    "Y_false.drop(columns = [20], inplace = True)\n",
    "Y_false_mean = np.mean(Y_false).to_numpy()"
   ]
  },
  {
   "cell_type": "code",
   "execution_count": 56,
   "metadata": {
    "id": "vHSyiOJs_ZjU"
   },
   "outputs": [],
   "source": [
    "def errorCalc(mean_updated, Y_true_mean, Y_false_mean, Y_pred, Y):\n",
    "  assign={'b':[],'g':[]}\n",
    "  new_predict = []\n",
    "  count = 0\n",
    "\n",
    "  for i in range(len(mean_updated)):\n",
    "      if np.sum(np.linalg.norm(Y_true_mean - mean_updated[i])) < np.sum(np.linalg.norm(Y_false_mean - mean_updated[i])):\n",
    "          assign['b'].append(i)\n",
    "      else:\n",
    "          assign['g'].append(i)\n",
    "\n",
    "  for i in Y_pred:\n",
    "      if i in assign['b']:\n",
    "          new_predict.append('b')\n",
    "      else:\n",
    "          new_predict.append('g')\n",
    "          \n",
    "  for i in range(len(Y)):\n",
    "      if Y[i] != new_predict[i]:\n",
    "          count+=1\n",
    "\n",
    "  error_val = count/(len(Y))\n",
    "  return error_val"
   ]
  },
  {
   "cell_type": "code",
   "execution_count": null,
   "metadata": {
    "colab": {
     "base_uri": "https://localhost:8080/"
    },
    "id": "KCuVSidNhFVh",
    "outputId": "f2722b65-803c-4fcd-a32b-318d87189a73"
   },
   "outputs": [
    {
     "name": "stderr",
     "output_type": "stream",
     "text": [
      "/usr/local/lib/python3.7/dist-packages/ipykernel_launcher.py:19: FutureWarning: elementwise comparison failed; returning scalar instead, but in the future will perform elementwise comparison\n"
     ]
    }
   ],
   "source": [
    "error_list = []\n",
    "iteration_list = []\n",
    "error_final = []\n",
    "iter_final = []\n",
    "\n",
    "for k in range(2,6):\n",
    "  # print(\"k:\" ,k)\n",
    "  error_list = []\n",
    "  iteration_list = []\n",
    "  for i in range(20):\n",
    "    # print(\"iter\",i)\n",
    "    post_prob, mean_updated, error_list, iter_count = expectationMaximization(X, k)\n",
    "    # print(\"iter_count:\",iter_count)\n",
    "    iteration_list.append(iter_count)\n",
    "    # print(\"iteration_list:\", iteration_list)\n",
    "\n",
    "    Y_pred = np.argmax(post_prob, axis=0)\n",
    "\n",
    "    error_val = errorCalc(mean_updated, Y_true_mean, Y_false_mean, Y_pred, Y)\n",
    "    error_list.append(error_val)\n",
    "      \n",
    "  error_final.append(error_list)\n",
    "  iter_final.append(iteration_list)"
   ]
  },
  {
   "cell_type": "code",
   "execution_count": 59,
   "metadata": {
    "colab": {
     "base_uri": "https://localhost:8080/",
     "height": 332
    },
    "id": "v5neT9YVh72u",
    "outputId": "c70b0351-0809-4487-b005-5e70f12be63a"
   },
   "outputs": [
    {
     "data": {
      "text/plain": [
       "<matplotlib.axes._subplots.AxesSubplot at 0x7fc53f2e8bd0>"
      ]
     },
     "execution_count": 59,
     "metadata": {},
     "output_type": "execute_result"
    },
    {
     "data": {
      "text/plain": [
       "Text(0.5, 1.0, 'Whisker plot for Iteration Count')"
      ]
     },
     "execution_count": 59,
     "metadata": {},
     "output_type": "execute_result"
    },
    {
     "data": {
      "text/plain": [
       "Text(0.5, 0, 'Iteration count')"
      ]
     },
     "execution_count": 59,
     "metadata": {},
     "output_type": "execute_result"
    },
    {
     "data": {
      "text/plain": [
       "Text(0, 0.5, 'Number of  clusters(k)')"
      ]
     },
     "execution_count": 59,
     "metadata": {},
     "output_type": "execute_result"
    },
    {
     "data": {
      "image/png": "[encoded data removed]",
      "text/plain": [
       "<Figure size 432x288 with 1 Axes>"
      ]
     },
     "metadata": {
      "needs_background": "light"
     },
     "output_type": "display_data"
    }
   ],
   "source": [
    "import matplotlib.pyplot as plt\n",
    "df = pd.DataFrame(iter_final, index=[i for i in range(2,6)])\n",
    "df.T.boxplot(vert=False)\n",
    "plt.subplots_adjust(left=0.2)\n",
    "plt.title('Whisker plot for Iteration Count')\n",
    "plt.xlabel(\"Iteration count\")\n",
    "plt.ylabel(\"Number of  clusters(k)\")\n",
    "plt.show() "
   ]
  },
  {
   "cell_type": "code",
   "execution_count": 44,
   "metadata": {
    "colab": {
     "base_uri": "https://localhost:8080/",
     "height": 332
    },
    "id": "OIyKuuTih79r",
    "outputId": "f3e4141a-aa87-42cb-934f-05c6d0a0bdf5"
   },
   "outputs": [
    {
     "data": {
      "text/plain": [
       "<matplotlib.axes._subplots.AxesSubplot at 0x7fc53f4f1c50>"
      ]
     },
     "execution_count": 44,
     "metadata": {},
     "output_type": "execute_result"
    },
    {
     "data": {
      "text/plain": [
       "Text(0.5, 1.0, 'Whisker plot for Error')"
      ]
     },
     "execution_count": 44,
     "metadata": {},
     "output_type": "execute_result"
    },
    {
     "data": {
      "text/plain": [
       "Text(0.5, 0, 'Iteration count')"
      ]
     },
     "execution_count": 44,
     "metadata": {},
     "output_type": "execute_result"
    },
    {
     "data": {
      "text/plain": [
       "Text(0, 0.5, 'Number of  clusters(k)')"
      ]
     },
     "execution_count": 44,
     "metadata": {},
     "output_type": "execute_result"
    },
    {
     "data": {
      "image/png": "[encoded data removed]",
      "text/plain": [
       "<Figure size 432x288 with 1 Axes>"
      ]
     },
     "metadata": {
      "needs_background": "light"
     },
     "output_type": "display_data"
    }
   ],
   "source": [
    "df = pd.DataFrame(error_final, index=[i for i in range(2,6)])\n",
    "df.T.boxplot(vert=False)\n",
    "plt.subplots_adjust(left=0.2)\n",
    "plt.title('Whisker plot for Error')\n",
    "plt.xlabel(\"Iteration count\")\n",
    "plt.ylabel(\"Number of  clusters(k)\")\n",
    "plt.show() "
   ]
  },
  {
   "cell_type": "markdown",
   "metadata": {
    "id": "a9mRvOxyf_e2"
   },
   "source": [
    "### Ionosphere dataset"
   ]
  },
  {
   "cell_type": "code",
   "execution_count": 8,
   "metadata": {
    "colab": {
     "base_uri": "https://localhost:8080/",
     "height": 243
    },
    "id": "eXK9pT3PfC2Y",
    "outputId": "9ebaa067-70f9-465b-81a1-96faee7acb0a"
   },
   "outputs": [
    {
     "data": {
      "text/plain": [
       "(351, 35)"
      ]
     },
     "execution_count": 8,
     "metadata": {},
     "output_type": "execute_result"
    },
    {
     "data": {
      "text/html": [
       "<div>\n",
       "<style scoped>\n",
       "    .dataframe tbody tr th:only-of-type {\n",
       "        vertical-align: middle;\n",
       "    }\n",
       "\n",
       "    .dataframe tbody tr th {\n",
       "        vertical-align: top;\n",
       "    }\n",
       "\n",
       "    .dataframe thead th {\n",
       "        text-align: right;\n",
       "    }\n",
       "</style>\n",
       "<table border=\"1\" class=\"dataframe\">\n",
       "  <thead>\n",
       "    <tr style=\"text-align: right;\">\n",
       "      <th></th>\n",
       "      <th>0</th>\n",
       "      <th>1</th>\n",
       "      <th>2</th>\n",
       "      <th>3</th>\n",
       "      <th>4</th>\n",
       "      <th>5</th>\n",
       "      <th>6</th>\n",
       "      <th>7</th>\n",
       "      <th>8</th>\n",
       "      <th>9</th>\n",
       "      <th>10</th>\n",
       "      <th>11</th>\n",
       "      <th>12</th>\n",
       "      <th>13</th>\n",
       "      <th>14</th>\n",
       "      <th>15</th>\n",
       "      <th>16</th>\n",
       "      <th>17</th>\n",
       "      <th>18</th>\n",
       "      <th>19</th>\n",
       "      <th>20</th>\n",
       "      <th>21</th>\n",
       "      <th>22</th>\n",
       "      <th>23</th>\n",
       "      <th>24</th>\n",
       "      <th>25</th>\n",
       "      <th>26</th>\n",
       "      <th>27</th>\n",
       "      <th>28</th>\n",
       "      <th>29</th>\n",
       "      <th>30</th>\n",
       "      <th>31</th>\n",
       "      <th>32</th>\n",
       "      <th>33</th>\n",
       "      <th>34</th>\n",
       "    </tr>\n",
       "  </thead>\n",
       "  <tbody>\n",
       "    <tr>\n",
       "      <th>0</th>\n",
       "      <td>1</td>\n",
       "      <td>0</td>\n",
       "      <td>0.99539</td>\n",
       "      <td>-0.05889</td>\n",
       "      <td>0.85243</td>\n",
       "      <td>0.02306</td>\n",
       "      <td>0.83398</td>\n",
       "      <td>-0.37708</td>\n",
       "      <td>1.00000</td>\n",
       "      <td>0.03760</td>\n",
       "      <td>0.85243</td>\n",
       "      <td>-0.17755</td>\n",
       "      <td>0.59755</td>\n",
       "      <td>-0.44945</td>\n",
       "      <td>0.60536</td>\n",
       "      <td>-0.38223</td>\n",
       "      <td>0.84356</td>\n",
       "      <td>-0.38542</td>\n",
       "      <td>0.58212</td>\n",
       "      <td>-0.32192</td>\n",
       "      <td>0.56971</td>\n",
       "      <td>-0.29674</td>\n",
       "      <td>0.36946</td>\n",
       "      <td>-0.47357</td>\n",
       "      <td>0.56811</td>\n",
       "      <td>-0.51171</td>\n",
       "      <td>0.41078</td>\n",
       "      <td>-0.46168</td>\n",
       "      <td>0.21266</td>\n",
       "      <td>-0.34090</td>\n",
       "      <td>0.42267</td>\n",
       "      <td>-0.54487</td>\n",
       "      <td>0.18641</td>\n",
       "      <td>-0.45300</td>\n",
       "      <td>g</td>\n",
       "    </tr>\n",
       "    <tr>\n",
       "      <th>1</th>\n",
       "      <td>1</td>\n",
       "      <td>0</td>\n",
       "      <td>1.00000</td>\n",
       "      <td>-0.18829</td>\n",
       "      <td>0.93035</td>\n",
       "      <td>-0.36156</td>\n",
       "      <td>-0.10868</td>\n",
       "      <td>-0.93597</td>\n",
       "      <td>1.00000</td>\n",
       "      <td>-0.04549</td>\n",
       "      <td>0.50874</td>\n",
       "      <td>-0.67743</td>\n",
       "      <td>0.34432</td>\n",
       "      <td>-0.69707</td>\n",
       "      <td>-0.51685</td>\n",
       "      <td>-0.97515</td>\n",
       "      <td>0.05499</td>\n",
       "      <td>-0.62237</td>\n",
       "      <td>0.33109</td>\n",
       "      <td>-1.00000</td>\n",
       "      <td>-0.13151</td>\n",
       "      <td>-0.45300</td>\n",
       "      <td>-0.18056</td>\n",
       "      <td>-0.35734</td>\n",
       "      <td>-0.20332</td>\n",
       "      <td>-0.26569</td>\n",
       "      <td>-0.20468</td>\n",
       "      <td>-0.18401</td>\n",
       "      <td>-0.19040</td>\n",
       "      <td>-0.11593</td>\n",
       "      <td>-0.16626</td>\n",
       "      <td>-0.06288</td>\n",
       "      <td>-0.13738</td>\n",
       "      <td>-0.02447</td>\n",
       "      <td>b</td>\n",
       "    </tr>\n",
       "    <tr>\n",
       "      <th>2</th>\n",
       "      <td>1</td>\n",
       "      <td>0</td>\n",
       "      <td>1.00000</td>\n",
       "      <td>-0.03365</td>\n",
       "      <td>1.00000</td>\n",
       "      <td>0.00485</td>\n",
       "      <td>1.00000</td>\n",
       "      <td>-0.12062</td>\n",
       "      <td>0.88965</td>\n",
       "      <td>0.01198</td>\n",
       "      <td>0.73082</td>\n",
       "      <td>0.05346</td>\n",
       "      <td>0.85443</td>\n",
       "      <td>0.00827</td>\n",
       "      <td>0.54591</td>\n",
       "      <td>0.00299</td>\n",
       "      <td>0.83775</td>\n",
       "      <td>-0.13644</td>\n",
       "      <td>0.75535</td>\n",
       "      <td>-0.08540</td>\n",
       "      <td>0.70887</td>\n",
       "      <td>-0.27502</td>\n",
       "      <td>0.43385</td>\n",
       "      <td>-0.12062</td>\n",
       "      <td>0.57528</td>\n",
       "      <td>-0.40220</td>\n",
       "      <td>0.58984</td>\n",
       "      <td>-0.22145</td>\n",
       "      <td>0.43100</td>\n",
       "      <td>-0.17365</td>\n",
       "      <td>0.60436</td>\n",
       "      <td>-0.24180</td>\n",
       "      <td>0.56045</td>\n",
       "      <td>-0.38238</td>\n",
       "      <td>g</td>\n",
       "    </tr>\n",
       "    <tr>\n",
       "      <th>3</th>\n",
       "      <td>1</td>\n",
       "      <td>0</td>\n",
       "      <td>1.00000</td>\n",
       "      <td>-0.45161</td>\n",
       "      <td>1.00000</td>\n",
       "      <td>1.00000</td>\n",
       "      <td>0.71216</td>\n",
       "      <td>-1.00000</td>\n",
       "      <td>0.00000</td>\n",
       "      <td>0.00000</td>\n",
       "      <td>0.00000</td>\n",
       "      <td>0.00000</td>\n",
       "      <td>0.00000</td>\n",
       "      <td>0.00000</td>\n",
       "      <td>-1.00000</td>\n",
       "      <td>0.14516</td>\n",
       "      <td>0.54094</td>\n",
       "      <td>-0.39330</td>\n",
       "      <td>-1.00000</td>\n",
       "      <td>-0.54467</td>\n",
       "      <td>-0.69975</td>\n",
       "      <td>1.00000</td>\n",
       "      <td>0.00000</td>\n",
       "      <td>0.00000</td>\n",
       "      <td>1.00000</td>\n",
       "      <td>0.90695</td>\n",
       "      <td>0.51613</td>\n",
       "      <td>1.00000</td>\n",
       "      <td>1.00000</td>\n",
       "      <td>-0.20099</td>\n",
       "      <td>0.25682</td>\n",
       "      <td>1.00000</td>\n",
       "      <td>-0.32382</td>\n",
       "      <td>1.00000</td>\n",
       "      <td>b</td>\n",
       "    </tr>\n",
       "    <tr>\n",
       "      <th>4</th>\n",
       "      <td>1</td>\n",
       "      <td>0</td>\n",
       "      <td>1.00000</td>\n",
       "      <td>-0.02401</td>\n",
       "      <td>0.94140</td>\n",
       "      <td>0.06531</td>\n",
       "      <td>0.92106</td>\n",
       "      <td>-0.23255</td>\n",
       "      <td>0.77152</td>\n",
       "      <td>-0.16399</td>\n",
       "      <td>0.52798</td>\n",
       "      <td>-0.20275</td>\n",
       "      <td>0.56409</td>\n",
       "      <td>-0.00712</td>\n",
       "      <td>0.34395</td>\n",
       "      <td>-0.27457</td>\n",
       "      <td>0.52940</td>\n",
       "      <td>-0.21780</td>\n",
       "      <td>0.45107</td>\n",
       "      <td>-0.17813</td>\n",
       "      <td>0.05982</td>\n",
       "      <td>-0.35575</td>\n",
       "      <td>0.02309</td>\n",
       "      <td>-0.52879</td>\n",
       "      <td>0.03286</td>\n",
       "      <td>-0.65158</td>\n",
       "      <td>0.13290</td>\n",
       "      <td>-0.53206</td>\n",
       "      <td>0.02431</td>\n",
       "      <td>-0.62197</td>\n",
       "      <td>-0.05707</td>\n",
       "      <td>-0.59573</td>\n",
       "      <td>-0.04608</td>\n",
       "      <td>-0.65697</td>\n",
       "      <td>g</td>\n",
       "    </tr>\n",
       "  </tbody>\n",
       "</table>\n",
       "</div>"
      ],
      "text/plain": [
       "   0   1        2        3        4   ...       30       31       32       33  34\n",
       "0   1   0  0.99539 -0.05889  0.85243  ...  0.42267 -0.54487  0.18641 -0.45300   g\n",
       "1   1   0  1.00000 -0.18829  0.93035  ... -0.16626 -0.06288 -0.13738 -0.02447   b\n",
       "2   1   0  1.00000 -0.03365  1.00000  ...  0.60436 -0.24180  0.56045 -0.38238   g\n",
       "3   1   0  1.00000 -0.45161  1.00000  ...  0.25682  1.00000 -0.32382  1.00000   b\n",
       "4   1   0  1.00000 -0.02401  0.94140  ... -0.05707 -0.59573 -0.04608 -0.65697   g\n",
       "\n",
       "[5 rows x 35 columns]"
      ]
     },
     "execution_count": 8,
     "metadata": {},
     "output_type": "execute_result"
    }
   ],
   "source": [
    "# Loading data\n",
    "\n",
    "df_ion = pd.read_csv(\"ionosphere.data\", header = None)\n",
    "df_ion.shape\n",
    "df_ion.head()"
   ]
  },
  {
   "cell_type": "code",
   "execution_count": 9,
   "metadata": {
    "colab": {
     "base_uri": "https://localhost:8080/",
     "height": 132
    },
    "id": "i6XPqP0uTcNk",
    "outputId": "9e16d5b9-7ef8-4b39-bdc3-b283d0c207f7"
   },
   "outputs": [
    {
     "data": {
      "text/html": [
       "<div>\n",
       "<style scoped>\n",
       "    .dataframe tbody tr th:only-of-type {\n",
       "        vertical-align: middle;\n",
       "    }\n",
       "\n",
       "    .dataframe tbody tr th {\n",
       "        vertical-align: top;\n",
       "    }\n",
       "\n",
       "    .dataframe thead th {\n",
       "        text-align: right;\n",
       "    }\n",
       "</style>\n",
       "<table border=\"1\" class=\"dataframe\">\n",
       "  <thead>\n",
       "    <tr style=\"text-align: right;\">\n",
       "      <th></th>\n",
       "      <th>0</th>\n",
       "      <th>1</th>\n",
       "      <th>2</th>\n",
       "      <th>3</th>\n",
       "      <th>4</th>\n",
       "      <th>5</th>\n",
       "      <th>6</th>\n",
       "      <th>7</th>\n",
       "      <th>8</th>\n",
       "      <th>9</th>\n",
       "      <th>10</th>\n",
       "      <th>11</th>\n",
       "      <th>12</th>\n",
       "      <th>13</th>\n",
       "      <th>14</th>\n",
       "      <th>15</th>\n",
       "      <th>16</th>\n",
       "      <th>17</th>\n",
       "      <th>18</th>\n",
       "      <th>19</th>\n",
       "      <th>20</th>\n",
       "      <th>21</th>\n",
       "      <th>22</th>\n",
       "      <th>23</th>\n",
       "      <th>24</th>\n",
       "      <th>25</th>\n",
       "      <th>26</th>\n",
       "      <th>27</th>\n",
       "      <th>28</th>\n",
       "      <th>29</th>\n",
       "      <th>30</th>\n",
       "      <th>31</th>\n",
       "      <th>32</th>\n",
       "      <th>33</th>\n",
       "    </tr>\n",
       "  </thead>\n",
       "  <tbody>\n",
       "    <tr>\n",
       "      <th>0</th>\n",
       "      <td>1</td>\n",
       "      <td>0</td>\n",
       "      <td>0.99539</td>\n",
       "      <td>-0.05889</td>\n",
       "      <td>0.85243</td>\n",
       "      <td>0.02306</td>\n",
       "      <td>0.83398</td>\n",
       "      <td>-0.37708</td>\n",
       "      <td>1.0</td>\n",
       "      <td>0.03760</td>\n",
       "      <td>0.85243</td>\n",
       "      <td>-0.17755</td>\n",
       "      <td>0.59755</td>\n",
       "      <td>-0.44945</td>\n",
       "      <td>0.60536</td>\n",
       "      <td>-0.38223</td>\n",
       "      <td>0.84356</td>\n",
       "      <td>-0.38542</td>\n",
       "      <td>0.58212</td>\n",
       "      <td>-0.32192</td>\n",
       "      <td>0.56971</td>\n",
       "      <td>-0.29674</td>\n",
       "      <td>0.36946</td>\n",
       "      <td>-0.47357</td>\n",
       "      <td>0.56811</td>\n",
       "      <td>-0.51171</td>\n",
       "      <td>0.41078</td>\n",
       "      <td>-0.46168</td>\n",
       "      <td>0.21266</td>\n",
       "      <td>-0.34090</td>\n",
       "      <td>0.42267</td>\n",
       "      <td>-0.54487</td>\n",
       "      <td>0.18641</td>\n",
       "      <td>-0.45300</td>\n",
       "    </tr>\n",
       "    <tr>\n",
       "      <th>1</th>\n",
       "      <td>1</td>\n",
       "      <td>0</td>\n",
       "      <td>1.00000</td>\n",
       "      <td>-0.18829</td>\n",
       "      <td>0.93035</td>\n",
       "      <td>-0.36156</td>\n",
       "      <td>-0.10868</td>\n",
       "      <td>-0.93597</td>\n",
       "      <td>1.0</td>\n",
       "      <td>-0.04549</td>\n",
       "      <td>0.50874</td>\n",
       "      <td>-0.67743</td>\n",
       "      <td>0.34432</td>\n",
       "      <td>-0.69707</td>\n",
       "      <td>-0.51685</td>\n",
       "      <td>-0.97515</td>\n",
       "      <td>0.05499</td>\n",
       "      <td>-0.62237</td>\n",
       "      <td>0.33109</td>\n",
       "      <td>-1.00000</td>\n",
       "      <td>-0.13151</td>\n",
       "      <td>-0.45300</td>\n",
       "      <td>-0.18056</td>\n",
       "      <td>-0.35734</td>\n",
       "      <td>-0.20332</td>\n",
       "      <td>-0.26569</td>\n",
       "      <td>-0.20468</td>\n",
       "      <td>-0.18401</td>\n",
       "      <td>-0.19040</td>\n",
       "      <td>-0.11593</td>\n",
       "      <td>-0.16626</td>\n",
       "      <td>-0.06288</td>\n",
       "      <td>-0.13738</td>\n",
       "      <td>-0.02447</td>\n",
       "    </tr>\n",
       "  </tbody>\n",
       "</table>\n",
       "</div>"
      ],
      "text/plain": [
       "   0   1        2        3   ...       30       31       32       33\n",
       "0   1   0  0.99539 -0.05889  ...  0.42267 -0.54487  0.18641 -0.45300\n",
       "1   1   0  1.00000 -0.18829  ... -0.16626 -0.06288 -0.13738 -0.02447\n",
       "\n",
       "[2 rows x 34 columns]"
      ]
     },
     "execution_count": 9,
     "metadata": {},
     "output_type": "execute_result"
    }
   ],
   "source": [
    "X = df_ion.loc[:, df_ion.columns != 34]\n",
    "X.head(2)\n",
    "\n",
    "Y = df_ion[[34]]\n",
    "Y = Y.to_numpy()"
   ]
  },
  {
   "cell_type": "code",
   "execution_count": 21,
   "metadata": {
    "colab": {
     "base_uri": "https://localhost:8080/"
    },
    "id": "c4Kgy0e8ZuYs",
    "outputId": "930fa9ee-1601-4bdb-aa33-d8adf1b68aa6"
   },
   "outputs": [
    {
     "name": "stderr",
     "output_type": "stream",
     "text": [
      "/usr/local/lib/python3.7/dist-packages/pandas/core/frame.py:4174: SettingWithCopyWarning: \n",
      "A value is trying to be set on a copy of a slice from a DataFrame\n",
      "\n",
      "See the caveats in the documentation: https://pandas.pydata.org/pandas-docs/stable/user_guide/indexing.html#returning-a-view-versus-a-copy\n",
      "  errors=errors,\n"
     ]
    }
   ],
   "source": [
    "Y_true = df_ion[df_ion[34] == 'g']\n",
    "Y_true.drop(columns = [34], inplace = True)\n",
    "Y_true_mean = np.mean(Y_true).to_numpy()\n",
    "\n",
    "Y_false = df_ion[df_ion[34] == 'b']\n",
    "Y_false.drop(columns = [34], inplace = True)\n",
    "Y_false_mean = np.mean(Y_false).to_numpy()"
   ]
  },
  {
   "cell_type": "code",
   "execution_count": null,
   "metadata": {
    "id": "H_cXjbQXXiQh"
   },
   "outputs": [],
   "source": [
    "error_list = []\n",
    "iteration_list = []\n",
    "error_final = []\n",
    "iter_final = []\n",
    "\n",
    "for k in range(2,6):\n",
    "  # print(\"k:\" ,k)\n",
    "  error_list = []\n",
    "  iteration_list = []\n",
    "  for i in range(20):\n",
    "    # print(\"iter\",i)\n",
    "    post_prob, mean_updated, error_list, iter_count = expectationMaximization(X, k)\n",
    "    # print(\"iter_count:\",iter_count)\n",
    "    iteration_list.append(iter_count)\n",
    "    # print(\"iteration_list:\", iteration_list)\n",
    "\n",
    "    Y_pred = np.argmax(post_prob, axis=0)\n",
    "\n",
    "    error_val = errorCalc(mean_updated, Y_true_mean, Y_false_mean, Y_pred, Y)\n",
    "    error_list.append(error_val)\n",
    "      \n",
    "  error_final.append(error_list)\n",
    "  iter_final.append(iteration_list)"
   ]
  },
  {
   "cell_type": "code",
   "execution_count": 24,
   "metadata": {
    "colab": {
     "base_uri": "https://localhost:8080/",
     "height": 332
    },
    "id": "ONRpIQnfYawF",
    "outputId": "cf247e69-7045-4739-83e1-5b7c8268d296"
   },
   "outputs": [
    {
     "data": {
      "text/plain": [
       "<matplotlib.axes._subplots.AxesSubplot at 0x7fc5445a9510>"
      ]
     },
     "execution_count": 24,
     "metadata": {},
     "output_type": "execute_result"
    },
    {
     "data": {
      "text/plain": [
       "Text(0.5, 1.0, 'Whisker plot for Iteration Count')"
      ]
     },
     "execution_count": 24,
     "metadata": {},
     "output_type": "execute_result"
    },
    {
     "data": {
      "text/plain": [
       "Text(0.5, 0, 'Iteration count')"
      ]
     },
     "execution_count": 24,
     "metadata": {},
     "output_type": "execute_result"
    },
    {
     "data": {
      "text/plain": [
       "Text(0, 0.5, 'Number of  clusters(k)')"
      ]
     },
     "execution_count": 24,
     "metadata": {},
     "output_type": "execute_result"
    },
    {
     "data": {
      "image/png": "[encoded data removed]",
      "text/plain": [
       "<Figure size 432x288 with 1 Axes>"
      ]
     },
     "metadata": {
      "needs_background": "light"
     },
     "output_type": "display_data"
    }
   ],
   "source": [
    "import matplotlib.pyplot as plt\n",
    "df = pd.DataFrame(iter_final, index=[i for i in range(2,6)])\n",
    "df.T.boxplot(vert=False)\n",
    "plt.subplots_adjust(left=0.2)\n",
    "plt.title('Whisker plot for Iteration Count')\n",
    "plt.xlabel(\"Iteration count\")\n",
    "plt.ylabel(\"Number of  clusters(k)\")\n",
    "plt.show() "
   ]
  },
  {
   "cell_type": "code",
   "execution_count": 25,
   "metadata": {
    "colab": {
     "base_uri": "https://localhost:8080/",
     "height": 332
    },
    "id": "LrxFy_K4a78Z",
    "outputId": "12f6e4cc-21a0-4320-8c53-471b6e566b17"
   },
   "outputs": [
    {
     "data": {
      "text/plain": [
       "<matplotlib.axes._subplots.AxesSubplot at 0x7fc544062150>"
      ]
     },
     "execution_count": 25,
     "metadata": {},
     "output_type": "execute_result"
    },
    {
     "data": {
      "text/plain": [
       "Text(0.5, 1.0, 'Whisker plot for Error')"
      ]
     },
     "execution_count": 25,
     "metadata": {},
     "output_type": "execute_result"
    },
    {
     "data": {
      "text/plain": [
       "Text(0.5, 0, 'Iteration count')"
      ]
     },
     "execution_count": 25,
     "metadata": {},
     "output_type": "execute_result"
    },
    {
     "data": {
      "text/plain": [
       "Text(0, 0.5, 'Number of  clusters(k)')"
      ]
     },
     "execution_count": 25,
     "metadata": {},
     "output_type": "execute_result"
    },
    {
     "data": {
      "image/png": "[encoded data removed]",
      "text/plain": [
       "<Figure size 432x288 with 1 Axes>"
      ]
     },
     "metadata": {
      "needs_background": "light"
     },
     "output_type": "display_data"
    }
   ],
   "source": [
    "df = pd.DataFrame(error_final, index=[i for i in range(2,6)])\n",
    "df.T.boxplot(vert=False)\n",
    "plt.subplots_adjust(left=0.2)\n",
    "plt.title('Whisker plot for Error')\n",
    "plt.xlabel(\"Iteration count\")\n",
    "plt.ylabel(\"Number of  clusters(k)\")\n",
    "plt.show() "
   ]
  },
  {
   "cell_type": "markdown",
   "metadata": {
    "id": "o6f_97hOkUs7"
   },
   "source": [
    "## Problem 3: Algorithm Design"
   ]
  },
  {
   "cell_type": "markdown",
   "metadata": {
    "id": "v9x8Sdbdkbsx"
   },
   "source": [
    "### Problem 3.1\n"
   ]
  },
  {
   "cell_type": "markdown",
   "metadata": {
    "id": "yyBYO7bUkenN"
   },
   "source": [
    "Given a text D and a pattern P, describe an Ω(d+p) time method for finding the longest prefix\n",
    "of P that is a substring of D. The lengths of D and P are d and p, respectively."
   ]
  },
  {
   "cell_type": "code",
   "execution_count": 32,
   "metadata": {
    "id": "P3j-5n1sdtQd"
   },
   "outputs": [],
   "source": [
    "# Function to compute the fail table for pattern\n",
    "\n",
    "def compute_kmp_fail(P) :\n",
    "  # Calculating the length of pattern\n",
    "  m = len(P)\n",
    "  fail = [0]*m\n",
    "  j = 1\n",
    "  k = 0\n",
    "  while j < m :\n",
    "    if P[j] == P[k]:\n",
    "      fail[j] = k +1\n",
    "      j += 1\n",
    "      k += 1\n",
    "    elif k > 0:\n",
    "      k = fail[k -1]\n",
    "    else :\n",
    "      j += 1\n",
    "  return fail"
   ]
  },
  {
   "cell_type": "code",
   "execution_count": 35,
   "metadata": {
    "id": "Fynj2HTTsTsA"
   },
   "outputs": [],
   "source": [
    "def modifiedKMPAlgo(T, P):\n",
    "  n, m = len(T), len(P)\n",
    "  if m == 0:\n",
    "      return 0\n",
    "  fail_table = compute_kmp_fail(P)\n",
    "  prefix_len = 0\n",
    "  value = \"\"\n",
    "  prefix_val = {\"longest prefix\": \"prefix\"}\n",
    "  j = 0\n",
    "  k = 0\n",
    "  while j < n:\n",
    "    if T[j] == P[k]:\n",
    "      if k == m-1:\n",
    "        val_return = prefix_val[\"longest prefix\"]\n",
    "        return prefix_val[\"longest prefix\"]\n",
    "      if prefix_len < k < len(P):\n",
    "        prefix_len = k\n",
    "        prefix_val[\"longest prefix\"] = P[0:k+1]\n",
    "        val_return = prefix_val[\"longest prefix\"]\n",
    "      j += 1\n",
    "      k += 1\n",
    "    elif k > 0:\n",
    "      k = fail[k - 1]\n",
    "    else:\n",
    "      j += 1\n",
    "\n",
    "  return prefix_val[\"longest prefix\"]"
   ]
  },
  {
   "cell_type": "code",
   "execution_count": 37,
   "metadata": {
    "colab": {
     "base_uri": "https://localhost:8080/"
    },
    "id": "asZQs4Eoxo78",
    "outputId": "e9d2d113-35c2-4ab1-e2b4-4be86651cabf"
   },
   "outputs": [
    {
     "name": "stdout",
     "output_type": "stream",
     "text": [
      "Text :  abababsbcabask\n",
      "Pattern :  aba\n",
      "longest matching prefix  : ab\n"
     ]
    }
   ],
   "source": [
    "# Code testing\n",
    "D = 'abababsbcabask'\n",
    "P = 'aba'\n",
    "print(\"Text : \",D)\n",
    "print(\"Pattern : \",P)\n",
    "prefix = modifiedKMPAlgo(D,P)\n",
    "\n",
    "if (prefix != \"prefix\"):\n",
    "  print(\"longest matching prefix  :\", prefix)"
   ]
  },
  {
   "cell_type": "markdown",
   "metadata": {
    "id": "IPWEA0TdkgK8"
   },
   "source": [
    "### Problem 3.2"
   ]
  },
  {
   "cell_type": "markdown",
   "metadata": {
    "id": "2Cdzi6qBklum"
   },
   "source": [
    "X, Y, and Z are three arrays and each has m elements. For an arbitrary integer t, describe\n",
    "O(m2\n",
    "logm)-time algorithm to determine if there exist numbers, x in X, y in Y, and z in Z, such\n",
    "that t = x+y+z."
   ]
  },
  {
   "cell_type": "code",
   "execution_count": 50,
   "metadata": {
    "id": "3asBAUn13t6i"
   },
   "outputs": [],
   "source": [
    "# Took lab code for refernce\n",
    "\n",
    "class Node:\n",
    "  def __init__(self, data, left=None, right=None):\n",
    "      self.data = data\n",
    "      self.left = left\n",
    "      self.right = right\n",
    "\n",
    "# define class binary tree\n",
    "class BinaryTree:\n",
    "    def __init__(self, data):\n",
    "        self.root = Node(data)\n",
    "    \n",
    "    def insert(self, data):\n",
    "        self.insert_by_node(self.root, data)\n",
    "        return\n",
    "    \n",
    "    def insert_by_node(self, node, data):\n",
    "        if data <= node.data:\n",
    "            if node.left != None:\n",
    "                self.insert_by_node(node.left, data)\n",
    "            else:\n",
    "                node.left = Node(data)\n",
    "        else:\n",
    "            if node.right != None:\n",
    "                self.insert_by_node(node.right, data)\n",
    "            else:\n",
    "                node.right = Node(data)\n",
    "                \n",
    "    def contains(self, data):\n",
    "        return self.contains_by_node(self.root, data)\n",
    "    \n",
    "    def contains_by_node(self, node, data):\n",
    "        if node:\n",
    "            if node.data == data:\n",
    "                return True\n",
    "            else:\n",
    "                return self.contains_by_node(node.left, data) or self.contains_by_node(node.right, data)\n",
    "        return False\n",
    "\n",
    "\n",
    "def search(X, Y, Z, t):\n",
    "  binary_tree = BinaryTree(Z[0])\n",
    "    for ele in Z:\n",
    "      binary_tree.insert(ele) \n",
    "    for x in X:\n",
    "      for y in Y:\n",
    "        if binary_tree.contains(t-(x+y)):\n",
    "          return True\n",
    "    return False"
   ]
  },
  {
   "cell_type": "code",
   "execution_count": 51,
   "metadata": {
    "colab": {
     "base_uri": "https://localhost:8080/"
    },
    "id": "uu9wgQyTAFzS",
    "outputId": "deaf80fc-7f1d-4d36-ed60-083224c740bd"
   },
   "outputs": [
    {
     "name": "stdout",
     "output_type": "stream",
     "text": [
      "True\n",
      "False\n"
     ]
    }
   ],
   "source": [
    "# code testing\n",
    "X = [i for i in range(20)]\n",
    "Y = [i for i in range(20)]\n",
    "Z = [i for i in range(20)]\n",
    "\n",
    "t = 20\n",
    "print(search(X, Y, Z, t))\n",
    "\n",
    "t = 100\n",
    "print(search(X, Y, Z, t))"
   ]
  },
  {
   "cell_type": "markdown",
   "metadata": {
    "id": "gIBn2qVfkntR"
   },
   "source": [
    "### Problem 3.3"
   ]
  },
  {
   "cell_type": "markdown",
   "metadata": {
    "id": "RAMk7EcMkqMQ"
   },
   "source": [
    "Describe an efficient algorithm for deleting a string from a compressed trie and analyze its running time.\n"
   ]
  },
  {
   "cell_type": "markdown",
   "metadata": {
    "id": "uFs_PFIv3sBl"
   },
   "source": [
    "Algorithm for deleting a string from a compressed trie:"
   ]
  },
  {
   "cell_type": "markdown",
   "metadata": {
    "id": "TN5abhfg4m0s"
   },
   "source": [
    "citation : https://www.ideserve.co.in/learn/trie-delete\n",
    "\n",
    "1. If key is not present in trie, then we should not make any changes to the trie\n",
    "2. If key is not either a prefix nor a suffix of any other key and nodes of key are not a part of any other key, then all the nodes starting from root node to leaf node of key should be deleted. \n",
    "3. If key is a prefix of some other key, then leaf node corresponding to key should be marked as 'not a leaf node'. No node should be deleted in this case.\n",
    "4. If key is a suffix of some other key, then all nodes of key which are not part of the other key should be deleted.\n",
    "5. If key is not a prefix nor a suffix of any other key but some nodes of key are shared with some other key, then nodes of key which are not common to any other key should be deleted and shared nodes should be kept intact.\n"
   ]
  },
  {
   "cell_type": "code",
   "execution_count": null,
   "metadata": {
    "id": "PScp0CWn4lI5"
   },
   "outputs": [],
   "source": []
  }
 ],
 "metadata": {
  "colab": {
   "collapsed_sections": [],
   "name": "CSCI B 505_Assignment 6_AkhilaS.ipynb",
   "provenance": [],
   "toc_visible": true
  },
  "kernelspec": {
   "display_name": "Python 3",
   "language": "python",
   "name": "python3"
  },
  "language_info": {
   "codemirror_mode": {
    "name": "ipython",
    "version": 3
   },
   "file_extension": ".py",
   "mimetype": "text/x-python",
   "name": "python",
   "nbconvert_exporter": "python",
   "pygments_lexer": "ipython3",
   "version": "3.8.8"
  }
 },
 "nbformat": 4,
 "nbformat_minor": 1
}
