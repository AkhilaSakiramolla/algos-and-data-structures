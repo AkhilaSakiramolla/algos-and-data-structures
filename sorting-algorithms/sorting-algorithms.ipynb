{
 "cells": [
  {
   "cell_type": "markdown",
   "metadata": {
    "id": "pim9CG8ArviE"
   },
   "source": [
    "# CSCI-B 505 Applied Algorithms - Assignment 4"
   ]
  },
  {
   "cell_type": "markdown",
   "metadata": {
    "id": "pLBHSq2Sr20Y"
   },
   "source": [
    "### Name : Akhila Sakiramolla (asakiram@iu.edu)\n",
    "### UID : 2000886005\n",
    "### Assignment partner : Chanakya Kenguva (ckenguva@iu.edu) "
   ]
  },
  {
   "cell_type": "markdown",
   "metadata": {
    "id": "a8vJyODrhtUn"
   },
   "source": [
    "# Question 1 : Algorithm Design 1"
   ]
  },
  {
   "cell_type": "markdown",
   "metadata": {
    "id": "a5WhLj5w76BR"
   },
   "source": [
    "Suppose you are given two sequences D1 and D2 of n elements, possibly containing duplicates,\n",
    "on which a total order relation is defined. Describe an efficient algorithm for determining if D1\n",
    "and D2 contain the same set of elements. What is the running time of this method?"
   ]
  },
  {
   "cell_type": "markdown",
   "metadata": {
    "id": "OFuSUUod-5tK"
   },
   "source": [
    "For 2 given input sequences, we can check if the two sequences contain same set of elements using the below algorithm. We first create two dictionaries with unique elements as keys and their frequencies are respective values. We then check if the keys are same in both the dictionaries. The running time/time complexity of the below algorithm is O(n)."
   ]
  },
  {
   "cell_type": "code",
   "execution_count": 6,
   "metadata": {
    "id": "EqYIxbVjG0UK"
   },
   "outputs": [],
   "source": [
    "import random"
   ]
  },
  {
   "cell_type": "code",
   "execution_count": 1,
   "metadata": {
    "id": "WsvXCUnqhybL"
   },
   "outputs": [],
   "source": [
    "# Algorithm\n",
    "\n",
    "# Input: D1, D2 : 2 sequences of n elements\n",
    "# Output: True or False\n",
    "\n",
    "# dict1 = {}\n",
    "# dict2 = {}\n",
    "\n",
    "# for i=0 -> len(D1)-1 do\n",
    "# # Creating a dictionary with all elements in D1 as keys and their frequency as values\n",
    "# if D1[i] in dict1.keys() do\n",
    "#      dict1[D1[i]] = dict1[D1[i]] + 1\n",
    "#   else do\n",
    "#      dict1[D1[i]] = 1\n",
    "\n",
    "#   # Creating a dictionary with all elements in D2 as keys and their frequency as values\n",
    "#   if D2[i] in dict2.keys() do\n",
    "#      dict2[D2[i]] = dict1[D2[i]] + 1\n",
    "#   else do\n",
    "#      dict2[D2[i]] = 1\n",
    "     \n",
    "# #  Checking if all the keys are same in both the created dictionaries\n",
    "# return dict1.keys() == dict2.keys()\n",
    "# end"
   ]
  },
  {
   "cell_type": "code",
   "execution_count": 2,
   "metadata": {
    "colab": {
     "base_uri": "https://localhost:8080/"
    },
    "id": "Df0zHE2Zh1E_",
    "outputId": "4307166e-9da5-4523-e35d-679757caadee"
   },
   "outputs": [
    {
     "name": "stdout",
     "output_type": "stream",
     "text": [
      "True\n"
     ]
    }
   ],
   "source": [
    "# Implementation\n",
    "\n",
    "dict1 = {}\n",
    "dict2 = {}\n",
    "D1 = [1, 1, 2, 3, 4]\n",
    "D2 = [1, 2, 2, 3, 4]\n",
    "\n",
    "for i in range(len(D1)):\n",
    "    # Creating a dictionary with all elements in D1 as keys and their frequency as values\n",
    "    if D1[i] in dict1.keys():\n",
    "        dict1[D1[i]] = dict1[D1[i]] + 1\n",
    "    else:\n",
    "        dict1[D1[i]] = 1\n",
    "\n",
    "    # Creating a dictionary with all elements in D2 as keys and their frequency as values\n",
    "    if D2[i] in dict2.keys():\n",
    "        dict2[D2[i]] = dict1[D2[i]] + 1\n",
    "    else:\n",
    "        dict2[D2[i]] = 1\n",
    "\n",
    "#  Checking if all the keys are same in both the created dictionaries\n",
    "print(dict1.keys() == dict2.keys())"
   ]
  },
  {
   "cell_type": "markdown",
   "metadata": {
    "id": "yUSMVseOQARj"
   },
   "source": [
    "# Question 2 : Algorithm Design 2"
   ]
  },
  {
   "cell_type": "markdown",
   "metadata": {
    "id": "FBOOb9d6Afz4"
   },
   "source": [
    "Given an array D of n integers in the range [0, n^2 − 1], describe a simple method for sorting D\n",
    "in O(n) time."
   ]
  },
  {
   "cell_type": "markdown",
   "metadata": {
    "id": "59ABJf8BAjxL"
   },
   "source": [
    "For a given input sequence D of n elements, with elements in the range of [0, n^2-1], we can sort D in O(n) time using below algorithm. We first put the elements in the array into a bucket list, which contains lists. Then we use insertion sort to sort the elements in these lists. Then we concatenate the lists in the bucket list for the final sorted array."
   ]
  },
  {
   "cell_type": "code",
   "execution_count": 3,
   "metadata": {
    "id": "aPGFMP-rbB8N"
   },
   "outputs": [],
   "source": [
    "# Algorithm\n",
    "\n",
    "# Algorithm 1 : Radix sort algorithm\n",
    "# Input: D, an unsorted sequences of n elements with integers in the range [0,n**2 - 1]\n",
    "# Output: Sorted D\n",
    "\n",
    "# max(D) = max_ele\n",
    "# digit_count = 0\n",
    "# while max_ele > 0 do\n",
    "#   max_ele = max_ele // 10\n",
    "#   digit_count += 1\n",
    "# end\n",
    "\n",
    "# div = 1\n",
    "# while digit_count > 0 do\n",
    "#   D = countSort(D, div)\n",
    "#   div = div*10\n",
    "#   digit_count = digit_count - 1\n",
    "# return D\n",
    "# end\n",
    "\n",
    "# Algorithm 2 : Count sort algorithm\n",
    "# Input: D, an unsorted sequences of n elements with integers in the range [0,n**2 - 1], and an integer div\n",
    "# Output: Partially sorted D\n",
    "\n",
    "# input_length = len(D)\n",
    "\n",
    "# Create a new array count_array[0 . . . 10]\n",
    "# for i = 0 → 10 do\n",
    "#   count_array[i] = 0\n",
    "\n",
    "# Create a new array output_array[0 . . .input_length]\n",
    "# for i = 0 → input_length do\n",
    "#   output_array[i] = 0\n",
    "\n",
    "# for i=0 downto input_length do\n",
    "#   count_array[(D[i] // div) % 10] = count_array[(D[i] // div) % 10] + 1\n",
    "# end\n",
    "\n",
    "# for i=1 downto 10 do\n",
    "#   count_array[i] = count_array[i] + count_array[i - 1]\n",
    "# end\n",
    "\n",
    "# for i=input_length downto 1 do\n",
    "#   output_array[count_array[(D[i] // div) % 10] - 1] = D[i]\n",
    "#   count_array[(D[i] // div) % 10] = count_array[(D[i] // div) % 10] - 1\n",
    "# end\n",
    "\n",
    "# return output_array"
   ]
  },
  {
   "cell_type": "code",
   "execution_count": 11,
   "metadata": {
    "id": "ZubMprfB_oJS"
   },
   "outputs": [
    {
     "ename": "IndentationError",
     "evalue": "unindent does not match any outer indentation level (<tokenize>, line 10)",
     "output_type": "error",
     "traceback": [
      "\u001b[1;36m  File \u001b[1;32m\"<tokenize>\"\u001b[1;36m, line \u001b[1;32m10\u001b[0m\n\u001b[1;33m    for i in range(0, len(D)):\u001b[0m\n\u001b[1;37m    ^\u001b[0m\n\u001b[1;31mIndentationError\u001b[0m\u001b[1;31m:\u001b[0m unindent does not match any outer indentation level\n"
     ]
    }
   ],
   "source": [
    "# Implementation\n",
    "\n",
    "import random\n",
    "\n",
    "def countSort(D, div):\n",
    "    count_array = [0]*10\n",
    "    output_array = [0]*len(D)\n",
    "\n",
    "  # Calculating count of each element\n",
    "  for i in range(0, len(D)):\n",
    "    count_array[(D[i] // div) % 10] += 1\n",
    "\n",
    "  # Calculating the cumulative count\n",
    "  for i in range(1,10):\n",
    "    count_array[i] += count_array[i - 1]\n",
    "\n",
    "for i in range(len(D)-1,-1,-1):\n",
    "    output_array[count_array[(D[i] // div) % 10] - 1] = D[i]\n",
    "    count_array[(D[i] // div) % 10] -= 1\n",
    "\n",
    "    return output_array\n",
    "\n",
    "def radixSort(D):\n",
    "    max_ele = max(D)\n",
    "\n",
    "    digit_count = 0\n",
    "    while max_ele > 0:\n",
    "    max_ele = max_ele // 10\n",
    "    digit_count += 1\n",
    "\n",
    "    div = 1\n",
    "    while digit_count > 0:\n",
    "        D = countSort(D, div)\n",
    "        div *= 10\n",
    "        digit_count -= 1\n",
    "\n",
    "    return D"
   ]
  },
  {
   "cell_type": "code",
   "execution_count": 12,
   "metadata": {
    "colab": {
     "base_uri": "https://localhost:8080/"
    },
    "id": "0_ILOq0oXOMm",
    "outputId": "ebc1235d-bc68-40ff-cb7b-5adbfc914e64"
   },
   "outputs": [
    {
     "name": "stdout",
     "output_type": "stream",
     "text": [
      "The input array is : [0, 10, 7, 6]\n"
     ]
    },
    {
     "ename": "NameError",
     "evalue": "name 'radixSort' is not defined",
     "output_type": "error",
     "traceback": [
      "\u001b[1;31m---------------------------------------------------------------------------\u001b[0m",
      "\u001b[1;31mNameError\u001b[0m                                 Traceback (most recent call last)",
      "\u001b[1;32m<ipython-input-12-62b18fdce42d>\u001b[0m in \u001b[0;36m<module>\u001b[1;34m\u001b[0m\n\u001b[0;32m      4\u001b[0m \u001b[0marr1\u001b[0m \u001b[1;33m=\u001b[0m \u001b[1;33m[\u001b[0m\u001b[0mrandom\u001b[0m\u001b[1;33m.\u001b[0m\u001b[0mrandrange\u001b[0m\u001b[1;33m(\u001b[0m\u001b[1;36m0\u001b[0m\u001b[1;33m,\u001b[0m \u001b[0mn1\u001b[0m\u001b[1;33m*\u001b[0m\u001b[0mn1\u001b[0m\u001b[1;33m)\u001b[0m \u001b[1;32mfor\u001b[0m \u001b[0mi\u001b[0m \u001b[1;32min\u001b[0m \u001b[0mrange\u001b[0m\u001b[1;33m(\u001b[0m\u001b[0mn1\u001b[0m\u001b[1;33m)\u001b[0m\u001b[1;33m]\u001b[0m\u001b[1;33m\u001b[0m\u001b[1;33m\u001b[0m\u001b[0m\n\u001b[0;32m      5\u001b[0m \u001b[0mprint\u001b[0m\u001b[1;33m(\u001b[0m\u001b[1;34m\"The input array is : {}\"\u001b[0m\u001b[1;33m.\u001b[0m\u001b[0mformat\u001b[0m\u001b[1;33m(\u001b[0m\u001b[0marr1\u001b[0m\u001b[1;33m)\u001b[0m\u001b[1;33m)\u001b[0m\u001b[1;33m\u001b[0m\u001b[1;33m\u001b[0m\u001b[0m\n\u001b[1;32m----> 6\u001b[1;33m \u001b[0mprint\u001b[0m\u001b[1;33m(\u001b[0m\u001b[1;34m\"The sorted array is : {}\"\u001b[0m\u001b[1;33m.\u001b[0m\u001b[0mformat\u001b[0m\u001b[1;33m(\u001b[0m\u001b[0mradixSort\u001b[0m\u001b[1;33m(\u001b[0m\u001b[0marr1\u001b[0m\u001b[1;33m)\u001b[0m\u001b[1;33m)\u001b[0m\u001b[1;33m)\u001b[0m\u001b[1;33m\u001b[0m\u001b[1;33m\u001b[0m\u001b[0m\n\u001b[0m\u001b[0;32m      7\u001b[0m \u001b[0mprint\u001b[0m\u001b[1;33m(\u001b[0m\u001b[1;34m\"\\n\"\u001b[0m\u001b[1;33m)\u001b[0m\u001b[1;33m\u001b[0m\u001b[1;33m\u001b[0m\u001b[0m\n\u001b[0;32m      8\u001b[0m \u001b[1;33m\u001b[0m\u001b[0m\n",
      "\u001b[1;31mNameError\u001b[0m: name 'radixSort' is not defined"
     ]
    }
   ],
   "source": [
    "# Testing the function with different types of inputs\n",
    "\n",
    "n1 = 4\n",
    "arr1 = [random.randrange(0, n1*n1) for i in range(n1)]\n",
    "print(\"The input array is : {}\".format(arr1))\n",
    "print(\"The sorted array is : {}\".format(radixSort(arr1)))\n",
    "print(\"\\n\")\n",
    "\n",
    "n2 = 10\n",
    "arr2 = [random.randrange(0, n2*n2) for i in range(n2)]\n",
    "print(\"The input array is : {}\".format(arr2))\n",
    "print(\"The sorted array is : {}\".format(radixSort(arr2)))"
   ]
  },
  {
   "cell_type": "markdown",
   "metadata": {
    "id": "nYyYb-FriZxa"
   },
   "source": [
    "# Question 3 : Algorithm Design 3"
   ]
  },
  {
   "cell_type": "markdown",
   "metadata": {
    "id": "MgjmZ8vPBkEV"
   },
   "source": [
    "Given a sequence D of n elements, on which a total order relation is defined, describe an efficient\n",
    "method for determining whether there are two equal elements in D. What is the running time of\n",
    "your method?"
   ]
  },
  {
   "cell_type": "markdown",
   "metadata": {
    "id": "hoNLdzfRBoUu"
   },
   "source": [
    "For a given input sequence D of n elements, we can check whether there are two equal elements using below algorithm. We first find the max element in the array and create another array with all elements as 0 and length as max element + 1. In this new array, we increment the count based on its which is given by the element of sequence D. If there is any element with value greater than 1, then algorithm returns true as we found two equal elements else it will return false. \n",
    "Time complexity of the algorithm is \"O(n+k)\" which is equivalent to \"O(n)\" where k is the range of the elements present in the Input Array (Highest value in Input Array)."
   ]
  },
  {
   "cell_type": "code",
   "execution_count": 6,
   "metadata": {
    "id": "oHSZOruAicrJ"
   },
   "outputs": [],
   "source": [
    "# Algorithm\n",
    "\n",
    "# Input: Sequence D with n elements\n",
    "# Output: True or False\n",
    "\n",
    "# k = max(D)\n",
    "# input_length = len(D)\n",
    "# # Creating an array with all elements as 0\n",
    "# C = [0] * (k + 1)\n",
    "\n",
    "# # Incrementing count of elements in D which is assigned as index for C\n",
    "# for j in range(0, input_length) do\n",
    "#     C[D[j]] = C[D[j]] + 1\n",
    "\n",
    "# # Checking if the count is greater than 1 for any element\n",
    "# for i in range(len(C)) do\n",
    "#     if C[i] > 1 do\n",
    "#        return True\n",
    "# return False\n",
    "# end"
   ]
  },
  {
   "cell_type": "code",
   "execution_count": 7,
   "metadata": {
    "id": "W7KSV9JQinab"
   },
   "outputs": [],
   "source": [
    "# Implementation\n",
    "\n",
    "def duplicateFinder(D):\n",
    "    k = max(D)\n",
    "    input_length = len(D)\n",
    "    # Creating an array with all elements as 0\n",
    "    C = [0] * (k + 1)\n",
    "\n",
    "    # Incrementing count of elements in D which is assigned as index for C\n",
    "    for j in range(0, input_length):\n",
    "        C[D[j]] = C[D[j]] + 1\n",
    "\n",
    "    # Checking if the count is greater than 1 for any element\n",
    "    for i in range(len(C)):\n",
    "        if C[i] > 1:\n",
    "            return True\n",
    "    return False"
   ]
  },
  {
   "cell_type": "code",
   "execution_count": 8,
   "metadata": {
    "colab": {
     "base_uri": "https://localhost:8080/"
    },
    "id": "ctbG4p3WivY7",
    "outputId": "dc95d6a0-0299-4c6d-fde7-3610a3261187"
   },
   "outputs": [
    {
     "name": "stdout",
     "output_type": "stream",
     "text": [
      "The input array is : [0, 6, 6, 0]\n",
      "True\n",
      "\n",
      "\n",
      "The input array is : [11, 9, 6, 10, 6, 14, 2, 9, 18, 2]\n",
      "True\n"
     ]
    }
   ],
   "source": [
    "# Testing the function with different types of inputs\n",
    "\n",
    "n1 = 4\n",
    "arr1 = [random.randrange(0, 10) for i in range(n1)]\n",
    "print(\"The input array is : {}\".format(arr1))\n",
    "print(duplicateFinder(arr1))\n",
    "print(\"\\n\")\n",
    "\n",
    "n2 = 10\n",
    "arr2 = [random.randrange(0, 20) for i in range(n2)]\n",
    "print(\"The input array is : {}\".format(arr2))\n",
    "print(duplicateFinder(arr2))"
   ]
  },
  {
   "cell_type": "markdown",
   "metadata": {
    "id": "3B_iKIsljxQN"
   },
   "source": [
    "# Question 4 : Merge sort"
   ]
  },
  {
   "cell_type": "markdown",
   "metadata": {
    "id": "lj9rKkC-DAUw"
   },
   "source": [
    "Implement a bottom-up merge-sort for a collection of items by placing each item in its own\n",
    "queue, and then repeatedly merging pairs of queues until all items are sorted within a single\n",
    "queue,"
   ]
  },
  {
   "cell_type": "markdown",
   "metadata": {
    "id": "Mod58ZNaDC7H"
   },
   "source": [
    "Merge Sort works using the divide and conquer method, in which we divide the input array into 2 halves and then call the function again for the two halves and then merge the 2 sorted halves. \n",
    "We do this using 2 functions, the merge() fucntion is used for merging the 2 halves and the mergesort() function calls itself recursively until the size of array becomes one. After dividing the array into smallest units, we merge the elements basis the comparisions. The time complexity of Merge sort is O(nlogn)\n"
   ]
  },
  {
   "cell_type": "code",
   "execution_count": 1,
   "metadata": {
    "id": "C5bsBknoipOu"
   },
   "outputs": [],
   "source": [
    "from collections import deque\n",
    "\n",
    "def merge(leftHalf, rightHalf, S):\n",
    "    while leftHalf and rightHalf:\n",
    "    if leftHalf[0] < rightHalf[0]:\n",
    "        S.append(leftHalf.popleft())\n",
    "    else:\n",
    "        S.append(rightHalf.popleft())\n",
    "  \n",
    "  while leftHalf:\n",
    "    S.append(leftHalf.popleft())\n",
    "    \n",
    "    while rightHalf:\n",
    "    S.append(rightHalf.popleft())\n",
    "\n",
    "    return S\n",
    "\n",
    "def merge_sort(D):\n",
    "    n = len(D)\n",
    "\n",
    "    if n < 2:\n",
    "        return D\n",
    "    leftHalf = deque()\n",
    "    rightHalf = deque()\n",
    "    sortedQ = deque()\n",
    "\n",
    "    while len(leftHalf) < n // 2:\n",
    "        leftHalf.append(D.popleft())\n",
    "    while D:\n",
    "        rightHalf.append(D.popleft())\n",
    "\n",
    "    leftHalf = merge_sort(leftHalf)\n",
    "    rightHalf = merge_sort(rightHalf)\n",
    "\n",
    "    sorted = merge(leftHalf, rightHalf, sortedQ)\n",
    "\n",
    "    return sorted"
   ]
  },
  {
   "cell_type": "code",
   "execution_count": 2,
   "metadata": {
    "colab": {
     "base_uri": "https://localhost:8080/"
    },
    "id": "NrqE_Jrpj7ft",
    "outputId": "019e7d6c-50e2-4b0d-db15-215999e658f6"
   },
   "outputs": [
    {
     "ename": "NameError",
     "evalue": "name 'random' is not defined",
     "output_type": "error",
     "traceback": [
      "\u001b[1;31m---------------------------------------------------------------------------\u001b[0m",
      "\u001b[1;31mNameError\u001b[0m                                 Traceback (most recent call last)",
      "\u001b[1;32m<ipython-input-2-eb8904fb5e28>\u001b[0m in \u001b[0;36m<module>\u001b[1;34m\u001b[0m\n\u001b[0;32m      2\u001b[0m \u001b[1;33m\u001b[0m\u001b[0m\n\u001b[0;32m      3\u001b[0m \u001b[0mn1\u001b[0m \u001b[1;33m=\u001b[0m \u001b[1;36m4\u001b[0m\u001b[1;33m\u001b[0m\u001b[1;33m\u001b[0m\u001b[0m\n\u001b[1;32m----> 4\u001b[1;33m \u001b[0marr1\u001b[0m \u001b[1;33m=\u001b[0m \u001b[0mdeque\u001b[0m\u001b[1;33m(\u001b[0m\u001b[1;33m[\u001b[0m\u001b[0mrandom\u001b[0m\u001b[1;33m.\u001b[0m\u001b[0mrandrange\u001b[0m\u001b[1;33m(\u001b[0m\u001b[1;36m0\u001b[0m\u001b[1;33m,\u001b[0m \u001b[1;36m10\u001b[0m\u001b[1;33m)\u001b[0m \u001b[1;32mfor\u001b[0m \u001b[0mi\u001b[0m \u001b[1;32min\u001b[0m \u001b[0mrange\u001b[0m\u001b[1;33m(\u001b[0m\u001b[0mn1\u001b[0m\u001b[1;33m)\u001b[0m\u001b[1;33m]\u001b[0m\u001b[1;33m)\u001b[0m\u001b[1;33m\u001b[0m\u001b[1;33m\u001b[0m\u001b[0m\n\u001b[0m\u001b[0;32m      5\u001b[0m \u001b[0mprint\u001b[0m\u001b[1;33m(\u001b[0m\u001b[1;34m\"The input array is : {}\"\u001b[0m\u001b[1;33m.\u001b[0m\u001b[0mformat\u001b[0m\u001b[1;33m(\u001b[0m\u001b[0mlist\u001b[0m\u001b[1;33m(\u001b[0m\u001b[0marr1\u001b[0m\u001b[1;33m)\u001b[0m\u001b[1;33m)\u001b[0m\u001b[1;33m)\u001b[0m\u001b[1;33m\u001b[0m\u001b[1;33m\u001b[0m\u001b[0m\n\u001b[0;32m      6\u001b[0m \u001b[0mprint\u001b[0m\u001b[1;33m(\u001b[0m\u001b[1;34m\"The sorted array is : {}\"\u001b[0m\u001b[1;33m.\u001b[0m\u001b[0mformat\u001b[0m\u001b[1;33m(\u001b[0m\u001b[0mlist\u001b[0m\u001b[1;33m(\u001b[0m\u001b[0mmerge_sort\u001b[0m\u001b[1;33m(\u001b[0m\u001b[0marr1\u001b[0m\u001b[1;33m)\u001b[0m\u001b[1;33m)\u001b[0m\u001b[1;33m)\u001b[0m\u001b[1;33m)\u001b[0m\u001b[1;33m\u001b[0m\u001b[1;33m\u001b[0m\u001b[0m\n",
      "\u001b[1;32m<ipython-input-2-eb8904fb5e28>\u001b[0m in \u001b[0;36m<listcomp>\u001b[1;34m(.0)\u001b[0m\n\u001b[0;32m      2\u001b[0m \u001b[1;33m\u001b[0m\u001b[0m\n\u001b[0;32m      3\u001b[0m \u001b[0mn1\u001b[0m \u001b[1;33m=\u001b[0m \u001b[1;36m4\u001b[0m\u001b[1;33m\u001b[0m\u001b[1;33m\u001b[0m\u001b[0m\n\u001b[1;32m----> 4\u001b[1;33m \u001b[0marr1\u001b[0m \u001b[1;33m=\u001b[0m \u001b[0mdeque\u001b[0m\u001b[1;33m(\u001b[0m\u001b[1;33m[\u001b[0m\u001b[0mrandom\u001b[0m\u001b[1;33m.\u001b[0m\u001b[0mrandrange\u001b[0m\u001b[1;33m(\u001b[0m\u001b[1;36m0\u001b[0m\u001b[1;33m,\u001b[0m \u001b[1;36m10\u001b[0m\u001b[1;33m)\u001b[0m \u001b[1;32mfor\u001b[0m \u001b[0mi\u001b[0m \u001b[1;32min\u001b[0m \u001b[0mrange\u001b[0m\u001b[1;33m(\u001b[0m\u001b[0mn1\u001b[0m\u001b[1;33m)\u001b[0m\u001b[1;33m]\u001b[0m\u001b[1;33m)\u001b[0m\u001b[1;33m\u001b[0m\u001b[1;33m\u001b[0m\u001b[0m\n\u001b[0m\u001b[0;32m      5\u001b[0m \u001b[0mprint\u001b[0m\u001b[1;33m(\u001b[0m\u001b[1;34m\"The input array is : {}\"\u001b[0m\u001b[1;33m.\u001b[0m\u001b[0mformat\u001b[0m\u001b[1;33m(\u001b[0m\u001b[0mlist\u001b[0m\u001b[1;33m(\u001b[0m\u001b[0marr1\u001b[0m\u001b[1;33m)\u001b[0m\u001b[1;33m)\u001b[0m\u001b[1;33m)\u001b[0m\u001b[1;33m\u001b[0m\u001b[1;33m\u001b[0m\u001b[0m\n\u001b[0;32m      6\u001b[0m \u001b[0mprint\u001b[0m\u001b[1;33m(\u001b[0m\u001b[1;34m\"The sorted array is : {}\"\u001b[0m\u001b[1;33m.\u001b[0m\u001b[0mformat\u001b[0m\u001b[1;33m(\u001b[0m\u001b[0mlist\u001b[0m\u001b[1;33m(\u001b[0m\u001b[0mmerge_sort\u001b[0m\u001b[1;33m(\u001b[0m\u001b[0marr1\u001b[0m\u001b[1;33m)\u001b[0m\u001b[1;33m)\u001b[0m\u001b[1;33m)\u001b[0m\u001b[1;33m)\u001b[0m\u001b[1;33m\u001b[0m\u001b[1;33m\u001b[0m\u001b[0m\n",
      "\u001b[1;31mNameError\u001b[0m: name 'random' is not defined"
     ]
    }
   ],
   "source": [
    "# Testing the function with different types of inputs\n",
    "\n",
    "n1 = 4\n",
    "arr1 = deque([random.randrange(0, 10) for i in range(n1)])\n",
    "print(\"The input array is : {}\".format(list(arr1)))\n",
    "print(\"The sorted array is : {}\".format(list(merge_sort(arr1))))\n",
    "print(\"\\n\")\n",
    "\n",
    "n2 = 10\n",
    "arr2 = deque([random.randrange(0, 20) for i in range(n2)])\n",
    "print(\"The input array is : {}\".format(list(arr2)))\n",
    "print(\"The sorted array is : {}\".format(list(merge_sort(arr2))))"
   ]
  },
  {
   "cell_type": "markdown",
   "metadata": {
    "id": "RUShCMPck9qL"
   },
   "source": [
    "# Question 5 : Heap sort"
   ]
  },
  {
   "cell_type": "markdown",
   "metadata": {
    "id": "f2cJwj4TDFWx"
   },
   "source": [
    "Implement the heap-sort algorithm given in algorithm 1. The max_heapify and build_max_heap\n",
    "procedures are described in algorithm 2 and algorithm 3, respectively."
   ]
  },
  {
   "cell_type": "markdown",
   "metadata": {
    "id": "uu6pn73OD7pQ"
   },
   "source": [
    "For a given input sequence, we first create a max heap where element in parent node is always greater than or equal to left and right child nodes. Once the max heap is created, we then swap the element in root node with the last node and then delete the last node. This process is repeated till all the elements in the array are sorted and then we return the sorted array. Time Complexity of Heap Sort is O(nlogn)."
   ]
  },
  {
   "cell_type": "code",
   "execution_count": 11,
   "metadata": {
    "id": "774UG7sLlBex"
   },
   "outputs": [],
   "source": [
    "# Function to heapify a given array\n",
    "def max_heapify(D, i):\n",
    "    largest = i       # Setting the current parent node as largest \n",
    "    l = 2*i + 1       # Calculating the index for left child node\n",
    "    r = 2*i + 2       # Calculating the index for right child node  \n",
    "\n",
    "    heap_size = len(D)\n",
    "  # Checking if the element at left child node is larger than the element at parent node\n",
    "  # If yes, setting the index of left child node as index\n",
    "    if l < heap_size and D[l] > D[i]:\n",
    "        largest = l\n",
    "\n",
    "  # Checking if the element at right child node is larger than the element at parent node\n",
    "  # If yes, setting the index of right child node as index\n",
    "    if r < heap_size and D[r] > D[largest]:\n",
    "      largest = r\n",
    "\n",
    "  # Checking if the index of parent node is not the largest\n",
    "  # If yes, swapping the element at child node (largest index) with element at parent node and continue the process\n",
    "  if largest != i:\n",
    "      D[i], D[largest] = D[largest], D[i]\n",
    "      max_heapify(D, largest)\n",
    "\n",
    "# Function to build max heap with the given array\n",
    "def build_max_heap(D):\n",
    "  heap_size = len(D)\n",
    "  n = heap_size//2   # Calculating indices of parent nodes\n",
    "  # Performing heapify \n",
    "  for i in range(n, -1, -1):  \n",
    "    max_heapify(D,i)\n",
    "\n",
    "# Function for Heap Sort Algorithm\n",
    "def heapSortAlgo(D):\n",
    "  heap_size = len(D)  # Calculating the length of given input array\n",
    "  build_max_heap(D)  # Building a max heap with the given input array\n",
    "\n",
    "  A = [0]*heap_size\n",
    "  for i in range(heap_size-1, 0, -1):\n",
    "    D[i], D[0] = D[0], D[i]\n",
    "    A[i] = D[i]\n",
    "    D.pop(i)\n",
    "    max_heapify(D,0)\n",
    "\n",
    "  A[0] = D[0]\n",
    "\n",
    "  return A"
   ]
  },
  {
   "cell_type": "code",
   "execution_count": 12,
   "metadata": {
    "colab": {
     "base_uri": "https://localhost:8080/"
    },
    "id": "mmVGTM5klI4J",
    "outputId": "52ce7745-97c1-4cad-9a5e-62e4f06e5d3c"
   },
   "outputs": [
    {
     "name": "stdout",
     "output_type": "stream",
     "text": [
      "The input array is:[1, 12, 15, 20, 3, 10]\n",
      "The sorted array is : [1, 3, 10, 12, 15, 20]\n",
      "\n",
      "\n",
      "The input array is:[12, 12, 6, 9, 1, 1, 12, 8, 10, 13]\n",
      "The sorted array is : [1, 1, 6, 8, 9, 10, 12, 12, 12, 13]\n",
      "\n",
      "\n"
     ]
    }
   ],
   "source": [
    "# Testing the function with different types of inputs\n",
    "arr1 = [1,12,15,20,3,10]\n",
    "print(\"The input array is:{}\".format(arr1))\n",
    "print(\"The sorted array is : {}\".format(heapSortAlgo(arr1)))\n",
    "print(\"\\n\")\n",
    "\n",
    "import random\n",
    "arr2 = [random.randrange(1, 15) for i in range(10)]\n",
    "print(\"The input array is:{}\".format(arr2))\n",
    "print(\"The sorted array is : {}\".format(heapSortAlgo(arr2)))\n",
    "print(\"\\n\")"
   ]
  },
  {
   "cell_type": "markdown",
   "metadata": {
    "id": "b00wta2zl4G6"
   },
   "source": [
    "# Question 6 : Counting sort"
   ]
  },
  {
   "cell_type": "markdown",
   "metadata": {
    "id": "nUSoWoOoDKyr"
   },
   "source": [
    "Implement the counting-sort algorithm given in algorithm 4."
   ]
  },
  {
   "cell_type": "markdown",
   "metadata": {
    "id": "vZUpHGDcEs1T"
   },
   "source": [
    "We have 3 arrays one for the input (D), other for storing the count of occurences of each element of the input array (C) and the final array to place the sorted input array at the right indexes (B).\n",
    "In the below code we determine the size of C using a range from 0 to the highest element present in D and we refer the index of C as an element in D and increment its value by 1 for each occurence found and then we add the final values of C to its previous value other than for the first element and then we start putting each element from the end of D at the correct index in B and then decrement its occurence by 1 to handle duplicate values.\n",
    "\n",
    "Time Complexity of Counting Sort Algorithm is \"O(n + k)\" which is equivalent to \"O(n)\"\n",
    "where k is the range of the elements present in the Input Array (Highest value in Input Array)."
   ]
  },
  {
   "cell_type": "code",
   "execution_count": 13,
   "metadata": {
    "id": "7rjeP0LSlLCR"
   },
   "outputs": [],
   "source": [
    "def countingSort(D):\n",
    "  k = max(D)\n",
    "  input_length = len(D)\n",
    "  B = []\n",
    "  C = [0] * (k + 1)\n",
    "  B = [0] * (input_length)\n",
    "\n",
    "  for j in range(0, input_length):\n",
    "      C[D[j]] = C[D[j]] + 1\n",
    "\n",
    "  for i in range(1, k + 1):\n",
    "      C[i] = C[i] + C[i - 1]\n",
    "\n",
    "  for j in range(input_length - 1, -1, -1):\n",
    "      B[C[D[j]] - 1] = D[j]\n",
    "      C[D[j]] = C[D[j]] - 1\n",
    "\n",
    "  return B"
   ]
  },
  {
   "cell_type": "code",
   "execution_count": 14,
   "metadata": {
    "colab": {
     "base_uri": "https://localhost:8080/"
    },
    "id": "1RuYst_Fl988",
    "outputId": "0ccf523b-64ae-4302-a03c-5859ba637b3d"
   },
   "outputs": [
    {
     "name": "stdout",
     "output_type": "stream",
     "text": [
      "The input array is : [4, 9, 0, 8]\n",
      "The sorted array is : [0, 4, 8, 9]\n",
      "\n",
      "\n",
      "The input array is : [7, 14, 9, 1, 12, 15, 11, 1, 19, 13]\n",
      "The sorted array is : [1, 1, 7, 9, 11, 12, 13, 14, 15, 19]\n"
     ]
    }
   ],
   "source": [
    "# Testing the function with different types of inputs\n",
    "\n",
    "n1 = 4\n",
    "arr1 = [random.randrange(0, 10) for i in range(n1)]\n",
    "print(\"The input array is : {}\".format(arr1))\n",
    "print(\"The sorted array is : {}\".format(countingSort(arr1)))\n",
    "print(\"\\n\")\n",
    "\n",
    "n2 = 10\n",
    "arr2 = [random.randrange(0, 20) for i in range(n2)]\n",
    "print(\"The input array is : {}\".format(arr2))\n",
    "print(\"The sorted array is : {}\".format(countingSort(arr2)))"
   ]
  },
  {
   "cell_type": "markdown",
   "metadata": {
    "id": "e5ozXHFTmRoy"
   },
   "source": [
    "# Question 7 : Bucket sort\n"
   ]
  },
  {
   "cell_type": "markdown",
   "metadata": {
    "id": "SKEnHxKoDP-F"
   },
   "source": [
    "Implement the bucket sort algorithm given in algorithm 5."
   ]
  },
  {
   "cell_type": "markdown",
   "metadata": {
    "id": "pC2bZQpzEwAI"
   },
   "source": [
    "Bucket sort, or bin sort, is a sorting algorithm that works by distributing the elements of an array into a number of buckets. Each bucket is then sorted individually, either using a different sorting algorithm, or by recursively applying the bucket sorting algorithm."
   ]
  },
  {
   "cell_type": "code",
   "execution_count": 19,
   "metadata": {
    "id": "WzZVE02ymPq-"
   },
   "outputs": [],
   "source": [
    "def bucketSort(D):\n",
    "  max_ele = max(D)\n",
    "  b_list = []\n",
    "  b_size = len(D)+1\n",
    "  for i in range(b_size):\n",
    "      b_list.append([])\n",
    "\n",
    "  for i in D:\n",
    "    b_index = int((i*len(D))/max_ele)\n",
    "    b_list[b_index].append(i)\n",
    "\n",
    "  # Sort individual buckets\n",
    "  for i in range(b_size):\n",
    "    insertionSort(b_list[i])\n",
    "\n",
    "  # concatenate the result\n",
    "  k = 0\n",
    "  for i in range(b_size):\n",
    "    for j in range(len(b_list[i])):\n",
    "      if len(b_list[i]) == 0:\n",
    "        continue\n",
    "      else:\n",
    "        D[k] = b_list[i][j]\n",
    "        k += 1\n",
    "\n",
    "  return D\n",
    "\n",
    "\n",
    "def insertionSort(D):\n",
    "  n = len(D)\n",
    "  for i in range(1, n):\n",
    "    value = D[i]\n",
    "    j = i-1\n",
    "    while j >= 0 and value < D[j] :\n",
    "      D[j + 1] = D[j]\n",
    "      j -= 1\n",
    "      D[j + 1] = value"
   ]
  },
  {
   "cell_type": "code",
   "execution_count": 20,
   "metadata": {
    "colab": {
     "base_uri": "https://localhost:8080/"
    },
    "id": "k7xAknE7pHwF",
    "outputId": "da16c21c-f88b-4b44-cea5-d06033533e36"
   },
   "outputs": [
    {
     "name": "stdout",
     "output_type": "stream",
     "text": [
      "The input array is : [6, 9, 9, 5]\n",
      "The sorted array is : [5, 6, 9, 9]\n",
      "\n",
      "\n",
      "The input array is : [16, 19, 0, 0, 7, 18, 13, 16, 7, 10]\n",
      "The sorted array is : [0, 0, 7, 7, 10, 13, 16, 16, 18, 19]\n"
     ]
    }
   ],
   "source": [
    "# Testing the function with different types of inputs\n",
    "\n",
    "n1 = 4\n",
    "arr1 = [random.randrange(0, 10) for i in range(n1)]\n",
    "print(\"The input array is : {}\".format(arr1))\n",
    "print(\"The sorted array is : {}\".format(bucketSort(arr1)))\n",
    "print(\"\\n\")\n",
    "\n",
    "n2 = 10\n",
    "arr2 = [random.randrange(0, 20) for i in range(n2)]\n",
    "print(\"The input array is : {}\".format(arr2))\n",
    "print(\"The sorted array is : {}\".format(bucketSort(arr2)))"
   ]
  },
  {
   "cell_type": "code",
   "execution_count": 17,
   "metadata": {
    "id": "Lpw6OIyE-VxF"
   },
   "outputs": [],
   "source": []
  }
 ],
 "metadata": {
  "colab": {
   "collapsed_sections": [],
   "name": "CSCI_B_505_Assignment4_Akhila_S.ipynb",
   "provenance": []
  },
  "kernelspec": {
   "display_name": "Python 3",
   "language": "python",
   "name": "python3"
  },
  "language_info": {
   "codemirror_mode": {
    "name": "ipython",
    "version": 3
   },
   "file_extension": ".py",
   "mimetype": "text/x-python",
   "name": "python",
   "nbconvert_exporter": "python",
   "pygments_lexer": "ipython3",
   "version": "3.8.8"
  }
 },
 "nbformat": 4,
 "nbformat_minor": 1
}
