{
 "cells": [
  {
   "cell_type": "markdown",
   "metadata": {
    "id": "KTvsOnfXGbP9"
   },
   "source": [
    "# CSCI-B 505 Applied Algorithms - Assignment 5"
   ]
  },
  {
   "cell_type": "markdown",
   "metadata": {
    "id": "f-eV_lKrGeRh"
   },
   "source": [
    "### Name : Akhila Sakiramolla (asakiram@iu.edu)\n",
    "### UID : 2000886005\n",
    "### Assignment partner : Roopank Kohli (rookohli@iu.edu) "
   ]
  },
  {
   "cell_type": "markdown",
   "metadata": {
    "id": "H86fnQsbG551"
   },
   "source": [
    "## Importing required libraries"
   ]
  },
  {
   "cell_type": "code",
   "execution_count": 5,
   "metadata": {
    "id": "V8Kdv_UwG826"
   },
   "outputs": [],
   "source": [
    "import pandas as pd\n",
    "import numpy as np\n",
    "import time\n",
    "import matplotlib.pyplot as plt\n",
    "import random"
   ]
  },
  {
   "cell_type": "markdown",
   "metadata": {
    "id": "cr1T39LkGj1u"
   },
   "source": [
    "## Problem 1: Pattern-matching: The brute-force"
   ]
  },
  {
   "cell_type": "markdown",
   "metadata": {
    "id": "bFPqEw2UGqh4"
   },
   "source": [
    "### Problem 1.1: The brute-force pattern-matching algorithm\n"
   ]
  },
  {
   "cell_type": "markdown",
   "metadata": {
    "id": "ePHZxSjnGz6r"
   },
   "source": [
    "Describe a text D and a pattern P such that the brute-force pattern-matching algorithm runs in Ω(dp) time.The lengths of D and P are d and p, respectively."
   ]
  },
  {
   "cell_type": "markdown",
   "metadata": {
    "id": "B9b_9npbyUuA"
   },
   "source": [
    "The brute algorithm for pattern matching compares the given pattern to the text by each character until matching characters are found. \n",
    "\n",
    "Worst case scenario is when the pattern is compared to each substring of length of pattern. If length of text is 'M' and length of pattern is 'N', then the time complexity is O(MN).\n",
    "\n",
    "Best case scenario is when the pattern is found in the first N positions of text. Here the time complexity is O(M).\n",
    "\n",
    "In the below code, I'm returning the first index where the pattern is found."
   ]
  },
  {
   "cell_type": "code",
   "execution_count": 2,
   "metadata": {
    "id": "Miyt3I6SGOjf"
   },
   "outputs": [],
   "source": [
    "def bruteForceAlgo(D,P):\n",
    "  # Calculating the lengths of text and pattern\n",
    "  n,m = len(D), len(P)\n",
    "\n",
    "  # Intialising a variable k to to compare elements in pattern with text \n",
    "  for i in range(n-m+1):\n",
    "    k = 0\n",
    "    # while k < m:\n",
    "    while (k < m) and (D[i+k] == P[k]):\n",
    "      # If the elements match move to next element\n",
    "      k += 1\n",
    "\n",
    "    # If the elements are matched return the index\n",
    "    if k == m:\n",
    "      print(\"Pattern identified in the Text at index : \",i)"
   ]
  },
  {
   "cell_type": "code",
   "execution_count": 3,
   "metadata": {
    "colab": {
     "base_uri": "https://localhost:8080/"
    },
    "id": "gqwYCOEUHh_P",
    "outputId": "d90000ad-62f4-4614-c358-2c2e7d835ced"
   },
   "outputs": [
    {
     "name": "stdout",
     "output_type": "stream",
     "text": [
      "Text :  abababsbcabask\n",
      "Pattern :  aba\n",
      "Pattern identified in the Text at index :  0\n",
      "Pattern identified in the Text at index :  2\n",
      "Pattern identified in the Text at index :  9\n",
      "\n",
      "\n",
      "Text :  AABAACAADAABAAABAA\n",
      "Pattern :  AABA\n",
      "Pattern identified in the Text at index :  0\n",
      "Pattern identified in the Text at index :  9\n",
      "Pattern identified in the Text at index :  13\n"
     ]
    }
   ],
   "source": [
    "# Code testing\n",
    "D = 'abababsbcabask'\n",
    "P = 'aba'\n",
    "print(\"Text : \",D)\n",
    "print(\"Pattern : \",P)\n",
    "bruteForceAlgo(D,P)\n",
    "print(\"\\n\")\n",
    "\n",
    "txt = \"AABAACAADAABAAABAA\"\n",
    "pat = \"AABA\"\n",
    "print(\"Text : \",txt)\n",
    "print(\"Pattern : \",pat)\n",
    "bruteForceAlgo(txt,pat)"
   ]
  },
  {
   "cell_type": "markdown",
   "metadata": {
    "id": "UahBhhRqIlqS"
   },
   "source": [
    "### Problem 1.2: Python’s str class and pattern-matching"
   ]
  },
  {
   "cell_type": "markdown",
   "metadata": {
    "id": "V22keGtWIpyf"
   },
   "source": [
    "In this part, you are asked to modify three pattern matching programs given to you (See appendix). Run your modified programs for varying-length patterns and show your results.\n",
    "\n",
    "The count method in Python’s str class takes a text D and a pattern P and returns the\n",
    "maximum number of non-overlapping occurrences of a P within D. As an example ‘cdcdcdcdc’.count(‘cdc’) returns 2.\n"
   ]
  },
  {
   "cell_type": "markdown",
   "metadata": {
    "id": "73nwywBUIxtU"
   },
   "source": [
    "#### 1. Brute-force pattern-matching"
   ]
  },
  {
   "cell_type": "markdown",
   "metadata": {
    "id": "Vo_YOI24z4ms"
   },
   "source": [
    "For the above Brute force code I have initialised a counter to count the number of occurences of the pattern and increment it everytime the pattern is found."
   ]
  },
  {
   "cell_type": "code",
   "execution_count": 44,
   "metadata": {
    "id": "xi_CHuFIKvMu"
   },
   "outputs": [],
   "source": [
    "def bruteForceAlgo(D,P):\n",
    "  # Calculating the lengths of text and pattern\n",
    "  n,m = len(D), len(P)\n",
    "  i = 0\n",
    "  # Intialising a counter to count number of occurences\n",
    "  pat_count = 0\n",
    "\n",
    "  # Intialising a variable k to to compare elements in pattern with text \n",
    "  while i < (n-m+1):\n",
    "    k = 0\n",
    "    while (k < m) and (D[i+k] == P[k]):\n",
    "      # If the elements match move to next element\n",
    "      k += 1\n",
    "\n",
    "    # If the elements are matched return the index\n",
    "    if k == m:\n",
    "      print(\"Pattern identified in the Text at index : \",i)\n",
    "      # Increamenting the pattern counter when pattern is found and resetting the indices\n",
    "      pat_count += 1\n",
    "      i += m -1\n",
    "    i += 1\n",
    "  print(\"The number of ocuurences is : \",pat_count)"
   ]
  },
  {
   "cell_type": "code",
   "execution_count": 45,
   "metadata": {
    "colab": {
     "base_uri": "https://localhost:8080/"
    },
    "id": "raous6MbJoqW",
    "outputId": "bfe3f2c5-84c2-41b5-b152-ea303b81d8d0"
   },
   "outputs": [
    {
     "name": "stdout",
     "output_type": "stream",
     "text": [
      "Text :  abababsbcabask\n",
      "Pattern :  aba\n",
      "Pattern identified in the Text at index :  0\n",
      "Pattern identified in the Text at index :  9\n",
      "The number of ocuurences is :  2\n",
      "\n",
      "\n",
      "Text :  AABAACAAABAAABAA\n",
      "Pattern :  AABA\n",
      "Pattern identified in the Text at index :  0\n",
      "Pattern identified in the Text at index :  7\n",
      "Pattern identified in the Text at index :  11\n",
      "The number of ocuurences is :  3\n"
     ]
    }
   ],
   "source": [
    "# Code testing\n",
    "D = 'abababsbcabask'\n",
    "P = 'aba'\n",
    "print(\"Text : \",D)\n",
    "print(\"Pattern : \",P)\n",
    "bruteForceAlgo(D,P)\n",
    "print(\"\\n\")\n",
    "\n",
    "txt = \"AABAACAAABAAABAA\"\n",
    "pat = \"AABA\"\n",
    "print(\"Text : \",txt)\n",
    "print(\"Pattern : \",pat)\n",
    "bruteForceAlgo(txt,pat)"
   ]
  },
  {
   "cell_type": "markdown",
   "metadata": {
    "id": "iCh3cQ4PL5SQ"
   },
   "source": [
    "#### 2. Boyer-Moore program"
   ]
  },
  {
   "cell_type": "markdown",
   "metadata": {
    "id": "ZGnC5bt53D9G"
   },
   "source": [
    "Boyer–Moore algorithm searches for the occurrences of the pattern in the text by performing character comparisons at different positions. Unlike Brute force algorithm where it compares all alignments, Boyer moore algorithm uses the comparison information gained already to skip as many positions as possible.\n",
    "\n",
    "If length of text is 'M' and length of pattern is 'N', then the worst case time complexity is O(MN).\n",
    "\n",
    "In the Boyer Moore algorithm code I have initialised a counter to count the number of occurences of the pattern and increment it everytime the pattern is found. After the pattern is found, I reset the indices of text and pattern to skip required number of positions.\n",
    "\n",
    "\n"
   ]
  },
  {
   "cell_type": "code",
   "execution_count": 46,
   "metadata": {
    "id": "SmnH3AYeKsbg"
   },
   "outputs": [],
   "source": [
    "def boyerMooreAlgo(D,P):\n",
    "  # Calculating the lengths of text and pattern\n",
    "  n,m = len(D), len(P)\n",
    "  if m == 0:\n",
    "    return 0\n",
    "  \n",
    "  # Initialising a dictionary to store info about elements position in the pattern\n",
    "  pat_dict = {}\n",
    "  for k in range(m):\n",
    "    pat_dict[P[k]] = k\n",
    "  \n",
    "  i = m-1\n",
    "  k = m-1\n",
    "  pat_count = 0\n",
    "\n",
    "  while i < n:\n",
    "    if D[i] == P[k]:\n",
    "      if k == 0:\n",
    "        print(\"Pattern identified in the Text at index : \",i)\n",
    "        # Increamenting the pattern counter when pattern is found and resetting the indices\n",
    "        pat_count += 1\n",
    "        i += m-1\n",
    "        j = pat_dict.get(D[i],-1)\n",
    "        i += m - min(k, j+1)\n",
    "        k = m-1\n",
    "        continue\n",
    "      else:\n",
    "        i -= 1\n",
    "        k -= 1\n",
    "    else:\n",
    "      j = pat_dict.get(D[i],-1)\n",
    "      i += m - min(k, j+1)\n",
    "      k = m-1\n",
    "\n",
    "  print(\"The number of ocuurences is : \",pat_count)"
   ]
  },
  {
   "cell_type": "code",
   "execution_count": 47,
   "metadata": {
    "colab": {
     "base_uri": "https://localhost:8080/"
    },
    "id": "0Fu22KNIMc2f",
    "outputId": "f7110d53-0c19-4c4e-d8f8-944095f1363f"
   },
   "outputs": [
    {
     "name": "stdout",
     "output_type": "stream",
     "text": [
      "Text :  abababsbcabask\n",
      "Pattern :  aba\n",
      "Pattern identified in the Text at index :  0\n",
      "Pattern identified in the Text at index :  9\n",
      "The number of ocuurences is :  2\n",
      "\n",
      "\n",
      "Text :  AABAACAAABAAABAA\n",
      "Pattern :  AABA\n",
      "Pattern identified in the Text at index :  0\n",
      "Pattern identified in the Text at index :  7\n",
      "Pattern identified in the Text at index :  11\n",
      "The number of ocuurences is :  3\n"
     ]
    }
   ],
   "source": [
    "# Code testing\n",
    "D = 'abababsbcabask'\n",
    "P = 'aba'\n",
    "print(\"Text : \",D)\n",
    "print(\"Pattern : \",P)\n",
    "boyerMooreAlgo(D,P)\n",
    "print(\"\\n\")\n",
    "\n",
    "txt = \"AABAACAAABAAABAA\"\n",
    "pat = \"AABA\"\n",
    "print(\"Text : \",txt)\n",
    "print(\"Pattern : \",pat)\n",
    "boyerMooreAlgo(txt,pat)"
   ]
  },
  {
   "cell_type": "markdown",
   "metadata": {
    "id": "th8gAX7DMtf7"
   },
   "source": [
    "#### 3. KMP program\n"
   ]
  },
  {
   "cell_type": "markdown",
   "metadata": {
    "id": "VjlaYXtW7Y_B"
   },
   "source": [
    "The KMP algorithm differs from Brute force algorithm by keeping a track of information gained from previous comparisons. It uses the degenerating property i.e., using sub patterns appearing more than once in the pattern. A failuer table is calculated which can be used to skip characters while matching.\n",
    "\n",
    "If length of text is 'M' and length of pattern is 'N', then the worst case time complexity is O(M).\n",
    "\n",
    "In the KMP algorithm code I have initialised a counter to count the number of occurences of the pattern and increment it everytime the pattern is found. After the pattern is found, I look up the fail table to calculate the number of positions to skip for the next comparison and accordingly reset the indices.\n",
    "\n"
   ]
  },
  {
   "cell_type": "code",
   "execution_count": 48,
   "metadata": {
    "id": "PDZ_sgtSMeGE"
   },
   "outputs": [],
   "source": [
    "# Function to compute the fail table for pattern\n",
    "def compute_kmp_fail(P) :\n",
    "  # Calculating the length of pattern\n",
    "  m = len(P)\n",
    "  fail = [0]*m\n",
    "  j = 1\n",
    "  k = 0\n",
    "  while j < m :\n",
    "    if P[j] == P[k]:\n",
    "      fail[j] = k +1\n",
    "      j += 1\n",
    "      k += 1\n",
    "    elif k > 0:\n",
    "      k = fail[k -1]\n",
    "    else :\n",
    "      j += 1\n",
    "    return fail"
   ]
  },
  {
   "cell_type": "code",
   "execution_count": 49,
   "metadata": {
    "id": "mq1jiKMBNrpw"
   },
   "outputs": [],
   "source": [
    "def KMPAlgo(T,P) :\n",
    "  # Calculating the length of pattern\n",
    "  n , m = len(T),len(P)\n",
    "  # Intialising a counter to count number of occurences\n",
    "  pat_count = 0\n",
    "\n",
    "  if m == 0:\n",
    "    return 0\n",
    "  fail = compute_kmp_fail(P)\n",
    "  j = 0\n",
    "  k = 0\n",
    "  while j < n :\n",
    "    if T[j] == P[k]:\n",
    "      if k == m -1:\n",
    "        print(\"Pattern identified in the Text at index : \",j-k)\n",
    "        # Increamenting the pattern counter when pattern is found and resetting the indices\n",
    "        pat_count += 1\n",
    "        k = 0\n",
    "        j = j - fail[k-1] + m - 1\n",
    "        continue\n",
    "      j += 1\n",
    "      k += 1\n",
    "    elif k > 0:\n",
    "      k = fail[k -1]\n",
    "    else :\n",
    "      j += 1\n",
    "  print(\"The number of ocuurences is : \",pat_count)"
   ]
  },
  {
   "cell_type": "code",
   "execution_count": 51,
   "metadata": {
    "colab": {
     "base_uri": "https://localhost:8080/"
    },
    "id": "Ge9O_bzMN62l",
    "outputId": "2d7fe37e-126a-49c4-dc96-9a1699ad5aa3"
   },
   "outputs": [
    {
     "name": "stdout",
     "output_type": "stream",
     "text": [
      "Text :  abababsbcabask\n",
      "Pattern :  aba\n",
      "Pattern identified in the Text at index :  0\n",
      "Pattern identified in the Text at index :  9\n",
      "The number of ocuurences is :  2\n",
      "\n",
      "\n"
     ]
    }
   ],
   "source": [
    "# Code testing\n",
    "D = 'abababsbcabask'\n",
    "P = 'aba'\n",
    "print(\"Text : \",D)\n",
    "print(\"Pattern : \",P)\n",
    "KMPAlgo(D,P)\n",
    "print(\"\\n\")"
   ]
  },
  {
   "cell_type": "markdown",
   "metadata": {
    "id": "qZzu_zBDHSgq"
   },
   "source": [
    "## Problem 2: Experimental Analysis of Pattern-Matching Algorithms\n"
   ]
  },
  {
   "cell_type": "markdown",
   "metadata": {
    "id": "vfnpvJDQHWz6"
   },
   "source": [
    "### 1. Number of character comparison"
   ]
  },
  {
   "cell_type": "code",
   "execution_count": 23,
   "metadata": {
    "id": "VBjKazJ8TU3n"
   },
   "outputs": [],
   "source": [
    "# Brute force\n",
    "def find_brute(T, P):\n",
    "  c = 0\n",
    "  n, m = len(T), len(P)\n",
    "  # every starting position\n",
    "  for i in range(n - m + 1):\n",
    "      k = 0\n",
    "      # conduct O(k) comparisons\n",
    "      while k < m and T[i + k] == P[k]:\n",
    "          c+=1\n",
    "          k += 1\n",
    "      c+=1\n",
    "      if k == m:\n",
    "          c -= 1\n",
    "          return c\n",
    "\n",
    "  return - 1"
   ]
  },
  {
   "cell_type": "code",
   "execution_count": 24,
   "metadata": {
    "id": "C8jQYc2GIavF"
   },
   "outputs": [],
   "source": [
    "# Boyer - Moore\n",
    "def find_boyer_moore(T, P):\n",
    "  c=0\n",
    "  n, m = len(T), len(P)\n",
    "  if m == 0:\n",
    "      return 0\n",
    "  last = {}\n",
    "  for k in range(m):\n",
    "      last[P[k]] = k\n",
    "  i = m - 1\n",
    "  k = m - 1\n",
    "  while i < n:\n",
    "\n",
    "      # If match , decrease i,k\n",
    "      if T[i] == P[k]:\n",
    "          c+=1\n",
    "          if k == 0:\n",
    "              return c\n",
    "\n",
    "          else:\n",
    "              i -= 1\n",
    "              k -= 1\n",
    "\n",
    "      # Not match , reset the positions\n",
    "      else:\n",
    "          j = last.get(T[i], -1)\n",
    "          i += m - min(k, j + 1)\n",
    "          k = m - 1\n",
    "          c+=1\n",
    "  return c"
   ]
  },
  {
   "cell_type": "code",
   "execution_count": 25,
   "metadata": {
    "id": "ZpwqeK45IdxS"
   },
   "outputs": [],
   "source": [
    "def compute_kmp_fail(P):\n",
    "  m = len(P)\n",
    "  fail = [0] * m\n",
    "  j = 1\n",
    "  k = 0\n",
    "  while j < m:\n",
    "      if P[j] == P[k]:\n",
    "          fail[j] = k + 1\n",
    "          j += 1\n",
    "          k += 1\n",
    "      elif k > 0:\n",
    "          k = fail[k - 1]\n",
    "      else:\n",
    "          j += 1\n",
    "  return fail"
   ]
  },
  {
   "cell_type": "code",
   "execution_count": 26,
   "metadata": {
    "id": "G3Atj6ooIhOJ"
   },
   "outputs": [],
   "source": [
    "def find_kmp(T, P):\n",
    "  c=0\n",
    "  n, m = len(T), len(P)\n",
    "  if m == 0:\n",
    "      return 0\n",
    "  fail = compute_kmp_fail(P)\n",
    "  # print ( fail )\n",
    "\n",
    "  j = 0\n",
    "  k = 0\n",
    "  while j < n:\n",
    "      if T[j] == P[k]:\n",
    "          c+=1\n",
    "          if k == m - 1:\n",
    "              return c\n",
    "          j += 1\n",
    "          k += 1\n",
    "          c+=1\n",
    "      elif k > 0:\n",
    "          k = fail[k - 1]\n",
    "          c+=1\n",
    "      else:\n",
    "          j += 1\n",
    "          c+=1\n",
    "  return c"
   ]
  },
  {
   "cell_type": "code",
   "execution_count": 33,
   "metadata": {
    "colab": {
     "base_uri": "https://localhost:8080/",
     "height": 295
    },
    "id": "TrQIXFHjIDnb",
    "outputId": "55c0136e-61ed-4edf-c195-1e589539093c"
   },
   "outputs": [
    {
     "data": {
      "image/png": "[encoded data removed]",
      "text/plain": [
       "<Figure size 432x288 with 1 Axes>"
      ]
     },
     "metadata": {
      "needs_background": "light"
     },
     "output_type": "display_data"
    }
   ],
   "source": [
    "if __name__ == \"__main__\":\n",
    "  bruteWordList, bruteList, bruteLength = [], [], []\n",
    "  boyerMooreWordList, boyerMooreList, boyerMooreLength = [], [], []\n",
    "  kmpWordList, kmpList, kmpLength = [], [], []\n",
    "\n",
    "  with open(\"Q2.txt\") as f:\n",
    "\n",
    "      textlines = f.read()\n",
    "      words = list(map(str, textlines.split()))\n",
    "\n",
    "  for j in range(2, 22):\n",
    "      counter = 0\n",
    "      for counter in range(100):\n",
    "\n",
    "          # print random string\n",
    "          word = random.choice(words)\n",
    "          if len(word) == j:\n",
    "\n",
    "              brute_result = find_brute(textlines, word)\n",
    "              boyer_moore_result = find_boyer_moore(textlines, word)\n",
    "              kmp_result = find_kmp(textlines, word)\n",
    "              bruteWordList.append(brute_result)\n",
    "              boyerMooreWordList.append(boyer_moore_result)\n",
    "              kmpWordList.append(kmp_result)\n",
    "\n",
    "\n",
    "      bruteValue = (sum(bruteWordList) / len(bruteWordList))\n",
    "      bruteList.append(bruteValue)\n",
    "\n",
    "      bmValue = (sum(boyerMooreWordList) / len(boyerMooreWordList))\n",
    "      boyerMooreList.append(bmValue)\n",
    "\n",
    "      kmpValue = (sum(kmpWordList)/len(kmpWordList))\n",
    "      kmpList.append(kmpValue)\n",
    "\n",
    "      bruteLength.append(j)\n",
    "\n",
    "  plt.xlabel('Length of Pattern')\n",
    "  plt.ylabel('Number of Comparisons')\n",
    "  plt.title('Character Comparison')\n",
    "\n",
    "  \n",
    "  (plt.plot(bruteLength, bruteList, label = 'brute',color='black'))\n",
    "  (plt.plot(bruteLength, boyerMooreList, label = 'boyerMoore',color='red'))\n",
    "  (plt.plot(bruteLength, kmpList, label = 'kmp',color='blue'))\n",
    "  plt.legend()\n",
    "  plt.show()"
   ]
  },
  {
   "cell_type": "markdown",
   "metadata": {
    "id": "5QC8d7EBS9N2"
   },
   "source": [
    "From the above graph, we notice that Brute algorithm has highest number of comparisons followed by KMP and Boyer Moore algorithms."
   ]
  },
  {
   "cell_type": "markdown",
   "metadata": {
    "id": "nncFr8dTHaeT"
   },
   "source": [
    "### 2. Relative speed comparison"
   ]
  },
  {
   "cell_type": "code",
   "execution_count": 52,
   "metadata": {
    "id": "kj0iwrsoM_sI"
   },
   "outputs": [],
   "source": [
    "# Brute force\n",
    "def find_brute (T , P ) :\n",
    "  stime = time.time_ns()\n",
    "  n , m = len( T ) , len ( P )\n",
    "  # every starting position\n",
    "  for i in range (n - m +1) :\n",
    "      k = 0\n",
    "      # conduct O(k) comparisons\n",
    "      while k < m and T [ i + k ] == P [ k ]:\n",
    "          k += 1\n",
    "      if k == m :\n",
    "          return float(time.time_ns()-stime)\n",
    "  return -1"
   ]
  },
  {
   "cell_type": "code",
   "execution_count": 53,
   "metadata": {
    "id": "M1mGC9R3NDGh"
   },
   "outputs": [],
   "source": [
    "# Boyer - Moore\n",
    "def find_boyer_moore (T , P ) :\n",
    "  stime = time.time_ns()\n",
    "  n , m = len( T ) , len ( P )\n",
    "  if m == 0:\n",
    "      return 0\n",
    "  last = {}\n",
    "  for k in range ( m ) :\n",
    "      last [ P [ k ]] = k\n",
    "  i = m -1\n",
    "  k = m -1\n",
    "  while i < n :\n",
    "      # If match , decrease i,k\n",
    "      if T [ i ] == P [ k ]:\n",
    "          if k == 0:\n",
    "              return float(time.time_ns()-stime)\n",
    "          else :\n",
    "              i -= 1\n",
    "              k -= 1\n",
    "      # Not match , reset the positions\n",
    "      else :\n",
    "          j = last . get ( T [ i ] , -1)\n",
    "          i += m - min (k , j +1)\n",
    "          k = m -1\n",
    "  return -1\n"
   ]
  },
  {
   "cell_type": "code",
   "execution_count": 54,
   "metadata": {
    "id": "uLtECzmXNGW6"
   },
   "outputs": [],
   "source": [
    "# KMP failure function\n",
    "def compute_kmp_fail ( P ) :\n",
    "  m = len( P )\n",
    "  fail = [0] * m\n",
    "  j = 1\n",
    "  k = 0\n",
    "  while j < m :\n",
    "      if P [ j ] == P [ k ]:\n",
    "          fail [ j ] = k +1\n",
    "          j += 1\n",
    "          k += 1\n",
    "      elif k > 0:\n",
    "          k = fail [k -1]\n",
    "      else :\n",
    "          j += 1\n",
    "  return fail"
   ]
  },
  {
   "cell_type": "code",
   "execution_count": 55,
   "metadata": {
    "id": "M9qmsI3LNJwZ"
   },
   "outputs": [],
   "source": [
    "# KMP\n",
    "def find_kmp (T , P ) :\n",
    "  stime = time.time_ns()\n",
    "  n , m = len( T ) , len ( P )\n",
    "  if m == 0:\n",
    "      return 0\n",
    "  fail = compute_kmp_fail ( P )\n",
    "  #print ( fail )\n",
    "  j = 0\n",
    "  k = 0\n",
    "  while j < n :\n",
    "      if T [ j ] == P [ k ]:\n",
    "          if k == m -1:\n",
    "              return float(time.time_ns()-stime)\n",
    "          j += 1\n",
    "          k += 1\n",
    "      elif k > 0:\n",
    "          k = fail [k -1]\n",
    "      else :\n",
    "          j += 1\n",
    "  return -1\n"
   ]
  },
  {
   "cell_type": "code",
   "execution_count": 56,
   "metadata": {
    "colab": {
     "base_uri": "https://localhost:8080/",
     "height": 295
    },
    "id": "4A4zaUIwL3pM",
    "outputId": "a86567cc-7e9f-4cff-a38f-274b1f86a63c"
   },
   "outputs": [
    {
     "data": {
      "image/png": "[encoded data removed]",
      "text/plain": [
       "<Figure size 432x288 with 1 Axes>"
      ]
     },
     "metadata": {
      "needs_background": "light"
     },
     "output_type": "display_data"
    }
   ],
   "source": [
    "if __name__ == \"__main__\":\n",
    "  bruteTimeList, bruteList, bruteLength = [], [], []\n",
    "  boyerMooreTimeList, boyerMooreList, boyerMooreLength = [], [], []\n",
    "  kmpTimeList, kmpList, kmpLength = [], [], []\n",
    "\n",
    "  with open(\"Q2.txt\") as f:\n",
    "      textlines = f.read()\n",
    "      words = list(map(str, textlines.split()))\n",
    "\n",
    "  for j in range(2, 22):\n",
    "      counter = 0\n",
    "      for counter in range(100):\n",
    "\n",
    "          # print random string\n",
    "          word = random.choice(words)\n",
    "          if len(word) == j:\n",
    "\n",
    "              brute_result = find_brute(textlines, word)\n",
    "              boyer_moore_result = find_boyer_moore(textlines, word)\n",
    "              kmp_result = find_kmp(textlines, word)\n",
    "\n",
    "              bruteTimeList.append(brute_result/1000000)\n",
    "              boyerMooreTimeList.append(boyer_moore_result/1000000)\n",
    "              kmpTimeList.append(kmp_result/1000000)\n",
    "\n",
    "      bruteValue = (sum(bruteTimeList) / len(bruteTimeList))\n",
    "      bruteList.append(bruteValue)\n",
    "\n",
    "      bmValue = (sum(boyerMooreTimeList) / len(boyerMooreTimeList))\n",
    "      boyerMooreList.append(bmValue)\n",
    "\n",
    "      kmpValue = (sum(kmpTimeList) / len(kmpTimeList))\n",
    "      kmpList.append(kmpValue)\n",
    "\n",
    "      bruteLength.append(j)\n",
    "\n",
    "  plt.xlabel('Number of Comparisons')\n",
    "  plt.ylabel('Length of Pattern')\n",
    "  plt.title('Running Time Comparison')\n",
    "\n",
    "  (plt.plot(bruteLength, bruteList, label = 'brute', color='blue'))\n",
    "  (plt.plot(bruteLength, boyerMooreList, label = 'boyerMoore',color='red'))\n",
    "  (plt.plot(bruteLength, kmpList, label = 'kmp',color='black'))\n",
    "  plt.legend()\n",
    "  plt.show()"
   ]
  },
  {
   "cell_type": "markdown",
   "metadata": {
    "id": "gmQjtQv1PesM"
   },
   "source": [
    "## Problem 3: Matrix-chain Multiplication\n"
   ]
  },
  {
   "cell_type": "markdown",
   "metadata": {
    "id": "OOZ3qxriP_VH"
   },
   "source": [
    "The matrix-chain multiplication problem: Given a chain of < D1, D2, . . . , Dn > of n matrices fully\n",
    "parenthesize the product < D1 ·D2 · · · Dn > in a way so that the number of scalar multiplications\n",
    "is minimized. Each Di has a pi−1 × pi dimension and i = 1, 2, . . . , n.\n"
   ]
  },
  {
   "cell_type": "markdown",
   "metadata": {
    "id": "S8cWOXS_AnD8"
   },
   "source": []
  },
  {
   "cell_type": "markdown",
   "metadata": {
    "id": "ipvP3mQjQAi_"
   },
   "source": [
    "### 1. The Brute-Force"
   ]
  },
  {
   "cell_type": "markdown",
   "metadata": {
    "id": "JA4XW_Z8BFp4"
   },
   "source": [
    "The brute force algorithm for matrix chain multiplication computes all possible commbinations of paranthesizations and returns the minimum cost of multiplication. \n",
    "\n",
    "In the below code, I have split the given sequence into two sequences and then recursively calculated the cost of multiplication for these sequences. Initialised a variable to store minimum cost and compared the calculated costs till the minimum value is found. Finally returning the minimum cost value."
   ]
  },
  {
   "cell_type": "code",
   "execution_count": 34,
   "metadata": {
    "id": "LDg6KdV1QL9x"
   },
   "outputs": [],
   "source": [
    "def matChainBF(dim,i,j):\n",
    "  k = 0\n",
    "  # Initialising a variable to store minimum cost\n",
    "  min_cost = 9999999\n",
    "  if i == j:\n",
    "    return 0\n",
    "  \n",
    "  # Calculating cost of multiplation for different combinations and finding the minimum cost\n",
    "  for k in range(i,j):\n",
    "    mat_cost = matChainBF(dim,i,k) + matChainBF(dim,k+1,j) + dim[i-1]*dim[k]*dim[j]\n",
    "\n",
    "    if mat_cost < min_cost:\n",
    "      min_cost = mat_cost\n",
    "  \n",
    "  return min_cost"
   ]
  },
  {
   "cell_type": "code",
   "execution_count": 35,
   "metadata": {
    "colab": {
     "base_uri": "https://localhost:8080/"
    },
    "id": "UoaWmpOYQLrZ",
    "outputId": "440a47d0-034b-446d-8f9e-a568b603ae97"
   },
   "outputs": [
    {
     "name": "stdout",
     "output_type": "stream",
     "text": [
      "Minimum number of multiplications is  88\n",
      "\n",
      "\n",
      "Minimum number of multiplications is  30\n"
     ]
    }
   ],
   "source": [
    "# Code testing\n",
    "arr = [5, 4, 6, 2]\n",
    "n = len(arr)\n",
    "print(\"Minimum number of multiplications is \",matChainBF(arr, 1, n-1))\n",
    "print(\"\\n\")\n",
    "\n",
    "arr = [1, 2, 3, 4, 3]\n",
    "n = len(arr)\n",
    "print(\"Minimum number of multiplications is \",matChainBF(arr, 1, n-1))"
   ]
  },
  {
   "cell_type": "markdown",
   "metadata": {
    "id": "72Cc6U1zQFlM"
   },
   "source": [
    "### 2. Bottom-up Dynamic Programming"
   ]
  },
  {
   "cell_type": "markdown",
   "metadata": {
    "id": "1QhfcmAxEF0W"
   },
   "source": [
    "In the below code, I'm first initialising two matrices, m - to store the minimum cost of multiplication for different combinations of paranthesization and s - to store the index at which the minimum cost is obtained. Now I split the given sequence into two sequences and then recursively calculated the cost of multiplication for these sequences. Initialised a variable to store minimum cost and compared the calculated costs till the minimum value is found. Finally returned the minimum cost value. I created another function printParanthesis to print the optimum paranthesization."
   ]
  },
  {
   "cell_type": "code",
   "execution_count": 36,
   "metadata": {
    "id": "00QQM_Civ0M5"
   },
   "outputs": [],
   "source": [
    "def printParanthesis(s,i,j):\n",
    "  paranthesis = \"\"\n",
    "  if i == j:\n",
    "    paranthesis += \"A\"+str(i)\n",
    "  else:\n",
    "        paranthesis += \"(\"\n",
    "        paranthesis += printParanthesis(s, i, s[i-1][j-1])\n",
    "        paranthesis += printParanthesis(s, s[i-1][j-1] + 1, j)\n",
    "        paranthesis += \")\"\n",
    "        \n",
    "  return paranthesis"
   ]
  },
  {
   "cell_type": "code",
   "execution_count": 37,
   "metadata": {
    "id": "XEVRGDYdQ8IU"
   },
   "outputs": [],
   "source": [
    "def matChainDP(dim_arr,arr_len):\n",
    "  # Intialising two arrays, m - to store the cost of multiplation and s - to store the index with minimum cost\n",
    "  m = [[0 for i in range(arr_len)] for j in range(arr_len)]\n",
    "  s = [[0 for i in range(arr_len-1)] for j in range(arr_len-1)]\n",
    "\n",
    "  for i in range(1,arr_len):\n",
    "    m[i][i] = 0\n",
    "\n",
    "  for l in range(2,arr_len):\n",
    "    for i in range(1, arr_len - l + 1):\n",
    "      j = i + l -1\n",
    "      m[i][j] = 99999\n",
    "      for k in range(i,j):\n",
    "        # Calculating the cost for different combinations and finally storing the minimum cost\n",
    "        mat_cost = int(m[i][k] + m[k + 1][j] + dim_arr[i-1]*dim_arr[k]*dim_arr[j])\n",
    "        if mat_cost < m[i][j]:\n",
    "          m[i][j] = mat_cost\n",
    "          s[i-1][j-1] = k\n",
    "\n",
    "  return m[1][arr_len-1], printParanthesis(s,1,n-1)"
   ]
  },
  {
   "cell_type": "code",
   "execution_count": 38,
   "metadata": {
    "colab": {
     "base_uri": "https://localhost:8080/"
    },
    "id": "sXDezYMoQ78Z",
    "outputId": "b8bf7567-1677-462c-da87-59b7b16906ad"
   },
   "outputs": [
    {
     "name": "stdout",
     "output_type": "stream",
     "text": [
      "Minimum number of multiplications is  88\n",
      "The paranthesization is  (A1(A2A3))\n",
      "\n",
      "\n",
      "Minimum number of multiplications is  30\n",
      "The paranthesization is  (((A1A2)A3)A4)\n"
     ]
    }
   ],
   "source": [
    "# Code testing\n",
    "arr = [5, 4, 6, 2]\n",
    "n = len(arr)\n",
    "cost, pattern = matChainDP(arr, n)\n",
    "print(\"Minimum number of multiplications is \",cost)\n",
    "print(\"The paranthesization is \",pattern)\n",
    "print(\"\\n\")\n",
    "\n",
    "arr = [1, 2, 3, 4, 3]\n",
    "n = len(arr)\n",
    "cost, pattern = matChainDP(arr, n)\n",
    "print(\"Minimum number of multiplications is \",cost)\n",
    "print(\"The paranthesization is \",pattern)"
   ]
  },
  {
   "cell_type": "markdown",
   "metadata": {
    "id": "cSR_M5_XQHTj"
   },
   "source": [
    "### 3. Dynamic Programming with Memoization"
   ]
  },
  {
   "cell_type": "code",
   "execution_count": 39,
   "metadata": {
    "id": "SiqJd_wzOJ6a"
   },
   "outputs": [],
   "source": [
    "def matChainDPM(mem_mat,dim_arr,i,j):\n",
    "  if (i == j):\n",
    "    return 0\n",
    "\n",
    "  if mem_mat[i][j] < 99999:\n",
    "    return mem_mat[i][j]\n",
    "  else:\n",
    "     # Calculating the cost for different combinations and finally storing the minimum cost\n",
    "    for k in range(i,j):\n",
    "      mem_mat[i][j] = min(mem_mat[i][j], matChainDPM(mem_mat, dim_arr, i, k) + matChainDPM(mem_mat, dim_arr, k + 1, j)+ dim_arr[i - 1] * dim_arr[k] * dim_arr[j])\n",
    "\n",
    "  return mem_mat[i][j]"
   ]
  },
  {
   "cell_type": "code",
   "execution_count": 40,
   "metadata": {
    "id": "QFlhou8_SFi7"
   },
   "outputs": [],
   "source": [
    "def memoizedMatrix(dim_arr):\n",
    "  # Creating an nxn array with some value\n",
    "  arr_len = len(dim_arr)\n",
    "  m = [[99999 for i in range(arr_len)] for j in range(arr_len)]\n",
    "  return matChainDPM(m, dim_arr, 1, arr_len-1)"
   ]
  },
  {
   "cell_type": "code",
   "execution_count": 41,
   "metadata": {
    "colab": {
     "base_uri": "https://localhost:8080/"
    },
    "id": "ng-Wc5DkSHBD",
    "outputId": "38ee77b5-f042-4283-bb3a-4398ddee8e67"
   },
   "outputs": [
    {
     "name": "stdout",
     "output_type": "stream",
     "text": [
      "Minimum number of multiplications is  88\n",
      "\n",
      "\n",
      "Minimum number of multiplications is  30\n"
     ]
    }
   ],
   "source": [
    "# Code testing\n",
    "arr = [5, 4, 6, 2]\n",
    "print(\"Minimum number of multiplications is \",memoizedMatrix(arr))\n",
    "print(\"\\n\")\n",
    "\n",
    "arr = [1, 2, 3, 4, 3]\n",
    "print(\"Minimum number of multiplications is \",memoizedMatrix(arr))"
   ]
  },
  {
   "cell_type": "markdown",
   "metadata": {
    "id": "OSF2DNCdJpw1"
   },
   "source": [
    "## Problem 4: Longest Common Sub-sequence (LCS) Problem"
   ]
  },
  {
   "cell_type": "markdown",
   "metadata": {
    "id": "5PMsUndTJxXJ"
   },
   "source": [
    "Implement a Python program to solve LCS problem using dynamic programming. Run your program to find the best sequence alignment between DNA strings. Show your results.\n",
    "\n",
    "Longest Common Sub-sequence (LCS) problem: Given two character strings over some alphabet, find a longest string that is a sub-sequence of given two strings.\n"
   ]
  },
  {
   "cell_type": "markdown",
   "metadata": {
    "id": "6JEcl-aLQLbG"
   },
   "source": [
    "In the below code, I first constructed a matrix from bottom corner to find the length of the longest common sub sequence. We check for a match, if found we put the value by incrementing the bottom diagonal value by 1. If not, then we put the value as the maximum value of next right matrix value and next bottom matrix value. We do this till we reach the top of the matrix. To find the LCS, we traverse from the first row and first column till bottom in the similar way. When there is a match we append to an initial empty string and return it."
   ]
  },
  {
   "cell_type": "code",
   "execution_count": 42,
   "metadata": {
    "id": "9QqIa-EDSM3Z"
   },
   "outputs": [],
   "source": [
    "  def lcs_algo(String1, String2, m, n):\n",
    "    L = [[0 for x in range(n + 1)] for x in range(m + 1)]\n",
    "\n",
    "    # Building the matrix in bottom-up way\n",
    "    for i in range(m + 1):\n",
    "        for j in range(n + 1):\n",
    "            if i == 0 or j == 0:\n",
    "                L[i][j] = 0\n",
    "            elif String1[i - 1] == String2[j - 1]:\n",
    "                L[i][j] = L[i - 1][j - 1] + 1\n",
    "            else:\n",
    "                L[i][j] = max(L[i - 1][j], L[i][j - 1])\n",
    "\n",
    "    index = L[m][n]\n",
    "\n",
    "    lcs_algo = [\"\"] * (index + 1)\n",
    "    lcs_algo[index] = \"\"\n",
    "\n",
    "    i = m\n",
    "    j = n\n",
    "    while i > 0 and j > 0:\n",
    "\n",
    "        if String1[i - 1] == String2[j - 1]:\n",
    "\n",
    "            lcs_algo[index - 1] = String1[i - 1]\n",
    "            i -= 1\n",
    "            j -= 1\n",
    "            index -= 1\n",
    "\n",
    "        elif L[i - 1][j] > L[i][j - 1]:\n",
    "            i -= 1\n",
    "        else:\n",
    "            j -= 1\n",
    "\n",
    "    # Printing the sub sequences\n",
    "    print(\"String1 : \" + String1 + \"\\nString2 : \" + String2)\n",
    "    print(\"LCS: \" + \"\".join(lcs_algo))\n",
    "    print(len(lcs_algo[:-1]))"
   ]
  },
  {
   "cell_type": "code",
   "execution_count": 43,
   "metadata": {
    "colab": {
     "base_uri": "https://localhost:8080/"
    },
    "id": "yiLKpr95KcnE",
    "outputId": "61891bcb-9c56-46ab-813c-e20e50618712"
   },
   "outputs": [
    {
     "name": "stdout",
     "output_type": "stream",
     "text": [
      "String1 : GGGAGTCGCTGCGCGCTGCCTTCGCCCCGTGCCCCGCTCCGCCGCCGCCTCGCGCCGCCCGCCCCGGCTCTGACTGACCGCGTTACTCCCACAGCCAGCCATGGATGATGATATTGCTGCGCTCGTTGTTGACAATGGCTCCGGTATGTGCAAGGCCGGTTTCGCCGGGGACGATGCCCCCCGTGCTGTGTTCCCATCTATCGTGGGTCGCCCCAGACATCAGGGTGTGATGGTTGGTATGGGCCAGAAAGACAGCTACGTTGGTGATGAAGCCCAGAGCAAAAGAGGTATCCTGACCCTGAAGTACCCCATTGAACACGGTATTGTCACCAACTGGGATGATATGGAGAAGATCTGGCACCACACTTTCTACAATGAGCTGAGAGTAGCCCCTGAGGAGCACCCTGTGCTGCTCACAGAGGCTCCCCTGAACCCCAAAGCCAACAGAGAGAAGATGACACAGATCATGTTTGAGACCTTCAACACCCCAGCCATGTATGTAGCCATCCAGGCTGTGCTGTCCCTGTATGCCTCTGGTCGTACCACTGGTATTGTGATGGACTCTGGTGATGGTGTTACCCACACTGTGCCCATCTATGAAGGCTACGCCCTCCCCCACGCCATCCTCCGTCTGGATCTGGCTGGCCGTGACCTGACGGACTACCTCATGAAGATCCTGACAGAGAGAGGCTACAGCTTCACCACCACAGCCGAGAGAGAAATTGTGCGTGACATCAAGGAGAAGCTGTGCTACGTCGCACTGGATTTCGAGCAGGAGATGGCCACAGCTGCCTCTAGCTCTTCCCTGGAGAAGAGCTATGAACTCCCTGATGGTCAGGTCATCACCATTGGCAATGAGAGGTTCAGGTGCCCCGAGGCCCTCTTCCAGCCATCTTTCTTGGGTATGGAGTCCTGTGGTATCCATGAAACTACCTTCAACTCCATCATGAAGTGTGATGTGGATATCCGTAAGGATCTGTATGCCAACACAGTGCTGTCTGGTGGTACCACAATGTACCCTGGCATTGCTGACAGGATGCAGAAGGAGATCACAGCCCTGGCACCTAGCACAATGAAAATCAAGATCATTGCCCCACCTGAGCGCAAGTACTCTGTCTGGATTGGAGGCTCTATCCTGGCCTCCCTGTCCACCTTCCAGCAGATGTGGATCAGCAAGCAGGAGTATGACGAATCCGGACCCTCCATTGTCCACCGCAAATGCTTCTAAACCGGACTGTTACCAACACCCACACCCCTGTGATGAAACAAAACCCATAAATGCGCATAAAACAAGACGAGATTGGCATGGCTTTATTTGTTTTTTCTTTTGGCGCTTGACTCAGGATTAAAAAACTGGAATGGTGAAGGTGTCAGCAGCAGTCTTAAAATGAAACATGTTGGAGCGAACGCCCCCAAAGTTCTACAATGCATCTGAGGACTTTGATTGTACATTTGTTTCTTTTTTAATAGTCATTCCAAATATTGTTATAATGCATTGTTACAGGAAGTTACTCGCCTCTGTGAAGGCAACAGCCCAGCTGGGAGGAGCCGGTACCAATTACTGGTGTTAGATGATAATTGCTTGTCTGTAAATTATGTAACCCAACAAGTGTCTTTTTGTATCTTCCGCCTTAAAAACAAAACACACTTGATCCTTTTTGGTTTGTCAAGCAAGCGGGCTGTGTTCCCCAGTGATAGATGTGAATGAAGGCTTTACAGTCCCCCACAGTCTAGGAGTAAAGTGCCAGTATGTGGGGGAGGGAGGGGCTACCTGTACACTGACTTAAGACCAGTTCAAATAAAAGTGCACACAATAGA\n",
      "String2 : ACAGCACGCTCTCAGCCTTCCTGAGCACCTTTCCTTCTTTCAGCCAACTGCTCACTCGCTCACCTCCCTCCTTGGCACCATGACCACCTGCAGCCGCCAGTTCACCTCCTCCAGCTCCATGAAGGGCTCCTGCGGCATCGGAGGCGGCATCGGGGGCGGCTCCAGCCGCATCTCCTCCGTCCTGGCCGGAGGGTCCTGCCGTGCCCCCAGCACCTACGGGGGCGGCCTGTCTGTCTCCTCTCGCTTCTCCTCTGGGGGAGCCTGCGGGCTGGGGGGCGGCTATGGCGGTGGCTTCAGCAGCAGCAGCAGCTTTGGTAGTGGCTTCGGGGGAGGATATGGTGGTGGCCTTGGTGCTGGCTTCGGTGGTGGCTTGGGTGCTGGCTTTGGTGGTGGTTTTGCTGGTGGTGATGGGCTTCTGGTGGGCAGTGAGAAGGTGACCATGCAGAACCTCAATGACCGCCTGGCCTCCTACCTGGACAAGGTGCGTGCTCTGGAGGAGGCCAACGCCGACCTGGAAGTGAAGATCCGTGACTGGTACCAGAGGCAGCGGCCCAGTGAGATCAAAGACTACAGTCCCTACTTCAAGACCATCGAGGACCTGAGGAACAAGATCATTGCGGCCACCATTGAGAATGCGCAGCCCATTTTGCAGATTGACAATGCCAGGCTGGCAGCCGATGACTTCAGGACCAAGTATGAGCATGAACTGGCCCTGCGGCAGACTGTGGAGGCCGACGTCAATGGCCTGCGCCGGGTGTTGGATGAGCTGACCCTGGCCAGGACTGACCTGGAGATGCAGATCGAAGGCCTGAAGGAGGAGCTGGCCTACCTGAGGAAGAACCACGAGGAGGAGATGCTTGCTCTGAGAGGTCAGACCGGCGGAGATGTGAACGTGGAGATGGATGCTGCACCTGGCGTGGACCTGAGCCGCATCCTGAATGAGATGCGTGACCAGTACGAGCAGATGGCAGAGAAAAACCGCAGAGACGCTGAGACCTGGTTCCTGAGCAAGACCGAGGAGCTGAACAAAGAAGTGGCCTCCAACAGCGAACTGGTACAGAGCAGCCGCAGTGAGGTGACGGAGCTCCGGAGGGTGCTCCAGGGCCTGGAGATTGAGCTGCAGTCCCAGCTCAGCATGAAAGCATCCCTGGAGAACAGCCTGGAGGAGACCAAAGGCCGCTACTGCATGCAGCTGTCCCAGATCCAGGGACTGATTGGCAGTGTGGAGGAGCAGCTGGCCCAGCTACGCTGTGAGATGGAGCAGCAGAGCCAGGAGTACCAGATCTTGCTGGATGTGAAGACGCGGCTGGAGCAGGAGATTGCCACCTACCGCCGCCTGCTGGAGGGCGAGGATGCCCACCTTTCCTCCCAGCAAGCATCTGGCCAATCCTATTCTTCCCGCGAGGTCTTCACCTCCTCCTCGTCCTCTTCGAGCCGTCAGACCCGGCCCATCCTCAAGGAGCAGAGCTCATCCAGCTTCAGCCAGGGCCAGAGCTCCTAGAACTGAGCTGCCTCTACCACAGCCTCCTGCCCACCAGCTGGCCTCACCTCCTGAAGGCCCGGGTCAGGACCCTGCTCTCCTGGCGCAGTTCCCAGCTATCTCCCCTGCTCCTCTGCTGGTGGTGGGCTAATAAAGCTGACTTTCTGGTTGATGCAAA\n",
      "LCS: ACGCCGCTCTCGCCCCTGCCCCCTCCGCCCGCTCCCGCCCCCCCTCCTGCCCTACCCCCAGCCGCCAGTTACTCCTCCAGCTCCATGAAGGGCTCCTGCGGCATCGGGGCGGCATCGGGGGGGTCCAGCGCACTTGTTGGCCGGAGGGTCCTGCCGTCCCCCAGCACCACGGGGGGGGTCTGCCCCCTTTCTCTGGGGGAGCCTGGGGCTGGCGCTACGGGCTTCAGCACAGAGAGGATGCCAGATATGTTGGCCTTGGTGTGCTCGGTGTGCTGTCTGGCTTGGTGTGGTTTTGTGGTGGTGATGGGTTCTGTGCATAGAAGGTGCCTCAGACCTCTGACGCTGGCCTCCTACGGACAATGGTCCTGGAGGAGGCCAACCCGCCGGAAGAAATGTGCTGACCAGAGAGCGGCCCATGGATCAAAGACACAGTCCCTACTTCAAGACATGAACCTGAGGCAGATCATTGGCAATGAGAATGCGAGCCCTTTCAGATTCTGGGTGGAGCCGTGACCAGACCAATATCATGAATGGTGGGAACGTAGGACGTATGCCCCGGTGTTGGTGACTGACCCTGGCAGCTGACGGATGCAGAAGGGAAAGCTGGCACCTGAAAGAAACAAGATCTTGCCTGAGGCAGACCTGTCTGGATGGAGCTCACCTGGCTCCTGACCTCCAGAGATGGGACAGAAGCAGATAGAGAAAAACCGCAGAACCGGACTGTTCCACAAACCGGATGAACAAAAATGGCTAACAGCGAATGGCAGGCAGCCGCTTGACTCGGATTACTGGAATTGAGTGCAGCAGCAGCTAAAATGAAACAGTGGAGGAACGCCCCCAAGTTCCAGATCAGGACTGATTGCAGTTAAGCATCCATAGTTATAAGCAGACAGGAGTACCGTCTGTGAGGAAGCCGCTGGGAGGAGCCACCTACGGTGTGGAAATGCTTTCTGAAATTATTACCCCAGGTCTTTTTGTTCTTCGCCTCAACCCGATCCTCAAGAGCGGCTTGTTCCCAGGAGAGTGAATGAGCTTTACAGTCCCCCACAGCTGGTACCTTGGGGGGAGGAGGGGCACCGTACCTGCTTCCGTTCAATAAAGTGACCTAGA\n",
      "1110\n",
      "\n",
      "\n",
      "String1 : ACCGGTCGAGTGCGCGGAAGCCGGCCGAA\n",
      "String2 : GTCGTTCGGAATGCCGTTGCTCTGTAAA\n",
      "LCS: GTCGTCGGAAGCCGGCCGAA\n",
      "20\n"
     ]
    }
   ],
   "source": [
    "# Code testing\n",
    "X = \"GGGAGTCGCTGCGCGCTGCCTTCGCCCCGTGCCCCGCTCCGCCGCCGCCTCGCGCCGCCCGCCCCGGCTCTGACTGACCGCGTTACTCCCACAGCCAGCCATGGATGATGATATTGCTGCGCTCGTTGTTGACAATGGCTCCGGTATGTGCAAGGCCGGTTTCGCCGGGGACGATGCCCCCCGTGCTGTGTTCCCATCTATCGTGGGTCGCCCCAGACATCAGGGTGTGATGGTTGGTATGGGCCAGAAAGACAGCTACGTTGGTGATGAAGCCCAGAGCAAAAGAGGTATCCTGACCCTGAAGTACCCCATTGAACACGGTATTGTCACCAACTGGGATGATATGGAGAAGATCTGGCACCACACTTTCTACAATGAGCTGAGAGTAGCCCCTGAGGAGCACCCTGTGCTGCTCACAGAGGCTCCCCTGAACCCCAAAGCCAACAGAGAGAAGATGACACAGATCATGTTTGAGACCTTCAACACCCCAGCCATGTATGTAGCCATCCAGGCTGTGCTGTCCCTGTATGCCTCTGGTCGTACCACTGGTATTGTGATGGACTCTGGTGATGGTGTTACCCACACTGTGCCCATCTATGAAGGCTACGCCCTCCCCCACGCCATCCTCCGTCTGGATCTGGCTGGCCGTGACCTGACGGACTACCTCATGAAGATCCTGACAGAGAGAGGCTACAGCTTCACCACCACAGCCGAGAGAGAAATTGTGCGTGACATCAAGGAGAAGCTGTGCTACGTCGCACTGGATTTCGAGCAGGAGATGGCCACAGCTGCCTCTAGCTCTTCCCTGGAGAAGAGCTATGAACTCCCTGATGGTCAGGTCATCACCATTGGCAATGAGAGGTTCAGGTGCCCCGAGGCCCTCTTCCAGCCATCTTTCTTGGGTATGGAGTCCTGTGGTATCCATGAAACTACCTTCAACTCCATCATGAAGTGTGATGTGGATATCCGTAAGGATCTGTATGCCAACACAGTGCTGTCTGGTGGTACCACAATGTACCCTGGCATTGCTGACAGGATGCAGAAGGAGATCACAGCCCTGGCACCTAGCACAATGAAAATCAAGATCATTGCCCCACCTGAGCGCAAGTACTCTGTCTGGATTGGAGGCTCTATCCTGGCCTCCCTGTCCACCTTCCAGCAGATGTGGATCAGCAAGCAGGAGTATGACGAATCCGGACCCTCCATTGTCCACCGCAAATGCTTCTAAACCGGACTGTTACCAACACCCACACCCCTGTGATGAAACAAAACCCATAAATGCGCATAAAACAAGACGAGATTGGCATGGCTTTATTTGTTTTTTCTTTTGGCGCTTGACTCAGGATTAAAAAACTGGAATGGTGAAGGTGTCAGCAGCAGTCTTAAAATGAAACATGTTGGAGCGAACGCCCCCAAAGTTCTACAATGCATCTGAGGACTTTGATTGTACATTTGTTTCTTTTTTAATAGTCATTCCAAATATTGTTATAATGCATTGTTACAGGAAGTTACTCGCCTCTGTGAAGGCAACAGCCCAGCTGGGAGGAGCCGGTACCAATTACTGGTGTTAGATGATAATTGCTTGTCTGTAAATTATGTAACCCAACAAGTGTCTTTTTGTATCTTCCGCCTTAAAAACAAAACACACTTGATCCTTTTTGGTTTGTCAAGCAAGCGGGCTGTGTTCCCCAGTGATAGATGTGAATGAAGGCTTTACAGTCCCCCACAGTCTAGGAGTAAAGTGCCAGTATGTGGGGGAGGGAGGGGCTACCTGTACACTGACTTAAGACCAGTTCAAATAAAAGTGCACACAATAGA\"\n",
    "Y = \"ACAGCACGCTCTCAGCCTTCCTGAGCACCTTTCCTTCTTTCAGCCAACTGCTCACTCGCTCACCTCCCTCCTTGGCACCATGACCACCTGCAGCCGCCAGTTCACCTCCTCCAGCTCCATGAAGGGCTCCTGCGGCATCGGAGGCGGCATCGGGGGCGGCTCCAGCCGCATCTCCTCCGTCCTGGCCGGAGGGTCCTGCCGTGCCCCCAGCACCTACGGGGGCGGCCTGTCTGTCTCCTCTCGCTTCTCCTCTGGGGGAGCCTGCGGGCTGGGGGGCGGCTATGGCGGTGGCTTCAGCAGCAGCAGCAGCTTTGGTAGTGGCTTCGGGGGAGGATATGGTGGTGGCCTTGGTGCTGGCTTCGGTGGTGGCTTGGGTGCTGGCTTTGGTGGTGGTTTTGCTGGTGGTGATGGGCTTCTGGTGGGCAGTGAGAAGGTGACCATGCAGAACCTCAATGACCGCCTGGCCTCCTACCTGGACAAGGTGCGTGCTCTGGAGGAGGCCAACGCCGACCTGGAAGTGAAGATCCGTGACTGGTACCAGAGGCAGCGGCCCAGTGAGATCAAAGACTACAGTCCCTACTTCAAGACCATCGAGGACCTGAGGAACAAGATCATTGCGGCCACCATTGAGAATGCGCAGCCCATTTTGCAGATTGACAATGCCAGGCTGGCAGCCGATGACTTCAGGACCAAGTATGAGCATGAACTGGCCCTGCGGCAGACTGTGGAGGCCGACGTCAATGGCCTGCGCCGGGTGTTGGATGAGCTGACCCTGGCCAGGACTGACCTGGAGATGCAGATCGAAGGCCTGAAGGAGGAGCTGGCCTACCTGAGGAAGAACCACGAGGAGGAGATGCTTGCTCTGAGAGGTCAGACCGGCGGAGATGTGAACGTGGAGATGGATGCTGCACCTGGCGTGGACCTGAGCCGCATCCTGAATGAGATGCGTGACCAGTACGAGCAGATGGCAGAGAAAAACCGCAGAGACGCTGAGACCTGGTTCCTGAGCAAGACCGAGGAGCTGAACAAAGAAGTGGCCTCCAACAGCGAACTGGTACAGAGCAGCCGCAGTGAGGTGACGGAGCTCCGGAGGGTGCTCCAGGGCCTGGAGATTGAGCTGCAGTCCCAGCTCAGCATGAAAGCATCCCTGGAGAACAGCCTGGAGGAGACCAAAGGCCGCTACTGCATGCAGCTGTCCCAGATCCAGGGACTGATTGGCAGTGTGGAGGAGCAGCTGGCCCAGCTACGCTGTGAGATGGAGCAGCAGAGCCAGGAGTACCAGATCTTGCTGGATGTGAAGACGCGGCTGGAGCAGGAGATTGCCACCTACCGCCGCCTGCTGGAGGGCGAGGATGCCCACCTTTCCTCCCAGCAAGCATCTGGCCAATCCTATTCTTCCCGCGAGGTCTTCACCTCCTCCTCGTCCTCTTCGAGCCGTCAGACCCGGCCCATCCTCAAGGAGCAGAGCTCATCCAGCTTCAGCCAGGGCCAGAGCTCCTAGAACTGAGCTGCCTCTACCACAGCCTCCTGCCCACCAGCTGGCCTCACCTCCTGAAGGCCCGGGTCAGGACCCTGCTCTCCTGGCGCAGTTCCCAGCTATCTCCCCTGCTCCTCTGCTGGTGGTGGGCTAATAAAGCTGACTTTCTGGTTGATGCAAA\"\n",
    "lcs_algo(X, Y, len(X), len(Y))\n",
    "print(\"\\n\")\n",
    "\n",
    "A = 'ACCGGTCGAGTGCGCGGAAGCCGGCCGAA'\n",
    "B = 'GTCGTTCGGAATGCCGTTGCTCTGTAAA'\n",
    "lcs_algo(A,B,len(A),len(B))"
   ]
  },
  {
   "cell_type": "code",
   "execution_count": 31,
   "metadata": {
    "id": "Zz5Eze9CKSWL"
   },
   "outputs": [],
   "source": []
  }
 ],
 "metadata": {
  "colab": {
   "collapsed_sections": [],
   "name": "CSCI_B_505_Assignment5_Akhila_S.ipynb",
   "provenance": []
  },
  "kernelspec": {
   "display_name": "Python 3",
   "language": "python",
   "name": "python3"
  },
  "language_info": {
   "codemirror_mode": {
    "name": "ipython",
    "version": 3
   },
   "file_extension": ".py",
   "mimetype": "text/x-python",
   "name": "python",
   "nbconvert_exporter": "python",
   "pygments_lexer": "ipython3",
   "version": "3.8.8"
  }
 },
 "nbformat": 4,
 "nbformat_minor": 1
}
